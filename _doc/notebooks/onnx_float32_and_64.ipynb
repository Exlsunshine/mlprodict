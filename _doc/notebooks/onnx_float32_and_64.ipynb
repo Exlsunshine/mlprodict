{
  "cells": [
    {
      "cell_type": "markdown",
      "metadata": {},
      "source": [
        "## ONNX graph, single or double floats\n",
        "\n",
        "The notebook shows discrepencies obtained by using double floats instead of single float in two cases. The second one involves [GaussianProcessRegressor](https://scikit-learn.org/stable/modules/generated/sklearn.gaussian_process.GaussianProcessRegressor.html)."
      ]
    },
    {
      "cell_type": "code",
      "execution_count": 1,
      "metadata": {},
      "outputs": [],
      "source": [
        "from jyquickhelper import add_notebook_menu\n",
        "add_notebook_menu()"
      ]
    },
    {
      "cell_type": "markdown",
      "metadata": {},
      "source": [
        "## Simple case of a linear regression\n",
        "\n",
        "A linear regression is simply a matrix multiplication followed by an addition: $Y=AX+B$. Let's train one with [scikit-learn](https://scikit-learn.org/stable/)."
      ]
    },
    {
      "cell_type": "code",
      "execution_count": 2,
      "metadata": {},
      "outputs": [
        {
          "data": {
            "text/plain": [
              "LinearRegression(copy_X=True, fit_intercept=True, n_jobs=None, normalize=False)"
            ]
          },
          "execution_count": 3,
          "metadata": {},
          "output_type": "execute_result"
        }
      ],
      "source": [
        "from sklearn.linear_model import LinearRegression\n",
        "from sklearn.datasets import load_boston\n",
        "from sklearn.model_selection import train_test_split\n",
        "data = load_boston()\n",
        "X, y = data.data, data.target\n",
        "X_train, X_test, y_train, y_test = train_test_split(X, y)\n",
        "clr = LinearRegression()\n",
        "clr.fit(X_train, y_train)"
      ]
    },
    {
      "cell_type": "code",
      "execution_count": 3,
      "metadata": {},
      "outputs": [
        {
          "data": {
            "text/plain": [
              "0.6670395137932994"
            ]
          },
          "execution_count": 4,
          "metadata": {},
          "output_type": "execute_result"
        }
      ],
      "source": [
        "clr.score(X_test, y_test)"
      ]
    },
    {
      "cell_type": "code",
      "execution_count": 4,
      "metadata": {},
      "outputs": [
        {
          "data": {
            "text/plain": [
              "array([-1.08807982e-01,  4.18783285e-02,  2.95768444e-02,  1.23352147e+00,\n",
              "       -1.22136785e+01,  4.15983177e+00, -7.14285476e-03, -1.44446027e+00,\n",
              "        3.21297163e-01, -1.61442487e-02, -8.54076388e-01,  1.06359543e-02,\n",
              "       -5.61967175e-01])"
            ]
          },
          "execution_count": 5,
          "metadata": {},
          "output_type": "execute_result"
        }
      ],
      "source": [
        "clr.coef_"
      ]
    },
    {
      "cell_type": "code",
      "execution_count": 5,
      "metadata": {},
      "outputs": [
        {
          "data": {
            "text/plain": [
              "31.095709912741835"
            ]
          },
          "execution_count": 6,
          "metadata": {},
          "output_type": "execute_result"
        }
      ],
      "source": [
        "clr.intercept_"
      ]
    },
    {
      "cell_type": "markdown",
      "metadata": {},
      "source": [
        "Let's predict with *scikit-learn* and *python*."
      ]
    },
    {
      "cell_type": "code",
      "execution_count": 6,
      "metadata": {},
      "outputs": [
        {
          "data": {
            "text/plain": [
              "array([15.8763016 , -0.71631653, 34.93376518, 23.32226277, 13.52997418])"
            ]
          },
          "execution_count": 7,
          "metadata": {},
          "output_type": "execute_result"
        }
      ],
      "source": [
        "ypred = clr.predict(X_test)\n",
        "ypred[:5]"
      ]
    },
    {
      "cell_type": "code",
      "execution_count": 7,
      "metadata": {},
      "outputs": [
        {
          "data": {
            "text/plain": [
              "array([15.8763016 , -0.71631653, 34.93376518, 23.32226277, 13.52997418])"
            ]
          },
          "execution_count": 8,
          "metadata": {},
          "output_type": "execute_result"
        }
      ],
      "source": [
        "py_pred = X_test @ clr.coef_ + clr.intercept_\n",
        "py_pred[:5]"
      ]
    },
    {
      "cell_type": "code",
      "execution_count": 8,
      "metadata": {},
      "outputs": [
        {
          "data": {
            "text/plain": [
              "(dtype('float64'), dtype('float64'))"
            ]
          },
          "execution_count": 9,
          "metadata": {},
          "output_type": "execute_result"
        }
      ],
      "source": [
        "clr.coef_.dtype, clr.intercept_.dtype"
      ]
    },
    {
      "cell_type": "markdown",
      "metadata": {},
      "source": [
        "## With ONNX\n",
        "\n",
        "With *ONNX*, we would write this operation as follows... We still need to convert everything into single floats = float32."
      ]
    },
    {
      "cell_type": "code",
      "execution_count": 9,
      "metadata": {},
      "outputs": [],
      "source": [
        "%load_ext mlprodict"
      ]
    },
    {
      "cell_type": "code",
      "execution_count": 10,
      "metadata": {},
      "outputs": [
        {
          "data": {
            "text/html": [
              "<div id=\"Md727a26d7a7e405b80e121f9e15de26a-cont\"><div id=\"Md727a26d7a7e405b80e121f9e15de26a\" style=\"width:100%;height:100%;\"></div></div>\n",
              "<script>\n",
              "\n",
              "require(['http://www.xavierdupre.fr/js/vizjs/viz.js'], function() { var svgGraph = Viz(\"digraph{\\n  ranksep=0.25;\\n  orientation=portrait;\\n  nodesep=0.05;\\n\\n  X [shape=box color=red label=\\\"X\\nfloat((127, 13))\\\" fontsize=10];\\n\\n  Y [shape=box color=green label=\\\"Y\\nfloat((127,))\\\" fontsize=10];\\n\\n  MatMulcst [shape=box label=\\\"MatMulcst\\nfloat32((13,))\\n[-1.0880798e-01  4.1878328e-02...\\\" fontsize=10];\\n  Addcst [shape=box label=\\\"Addcst\\nfloat32((1,))\\n[31.09571]\\\" fontsize=10];\\n\\n  O0 [shape=box label=\\\"O0\\\" fontsize=10];\\n  MatMul [shape=box style=\\\"filled,rounded\\\" color=orange label=\\\"MatMul\\n(MatMul)\\\" fontsize=10];\\n  X -> MatMul;\\n  MatMulcst -> MatMul;\\n  MatMul -> O0;\\n\\n  Add [shape=box style=\\\"filled,rounded\\\" color=orange label=\\\"Add\\n(Add)\\\" fontsize=10];\\n  O0 -> Add;\\n  Addcst -> Add;\\n  Add -> Y;\\n}\");\n",
              "document.getElementById('Md727a26d7a7e405b80e121f9e15de26a').innerHTML = svgGraph; });\n",
              "\n",
              "</script>"
            ],
            "text/plain": [
              "<jyquickhelper.jspy.render_nb_js_dot.RenderJsDot at 0x12cb21cef28>"
            ]
          },
          "execution_count": 11,
          "metadata": {},
          "output_type": "execute_result"
        }
      ],
      "source": [
        "from skl2onnx.algebra.onnx_ops import OnnxMatMul, OnnxAdd\n",
        "import numpy\n",
        "\n",
        "onnx_fct = OnnxAdd(OnnxMatMul('X', clr.coef_.astype(numpy.float32)),\n",
        "                   numpy.array([clr.intercept_]),\n",
        "                   output_names=['Y'])\n",
        "onnx_model32 = onnx_fct.to_onnx({'X': X_test.astype(numpy.float32)},\n",
        "                              dtype=numpy.float32)\n",
        "\n",
        "%onnxview onnx_model32"
      ]
    },
    {
      "cell_type": "markdown",
      "metadata": {},
      "source": [
        "The next line uses a python runtime to compute the prediction."
      ]
    },
    {
      "cell_type": "code",
      "execution_count": 11,
      "metadata": {},
      "outputs": [
        {
          "data": {
            "text/plain": [
              "array([15.87630339, -0.71631559, 34.9337676 , 23.32226466, 13.52997575])"
            ]
          },
          "execution_count": 12,
          "metadata": {},
          "output_type": "execute_result"
        }
      ],
      "source": [
        "from mlprodict.onnxrt import OnnxInference\n",
        "oinf = OnnxInference(onnx_model32)\n",
        "ort_pred = oinf.run({'X': X_test})['Y']\n",
        "ort_pred[:5]"
      ]
    },
    {
      "cell_type": "markdown",
      "metadata": {},
      "source": [
        "And here is the same with [onnxruntime](https://github.com/microsoft/onnxruntime)..."
      ]
    },
    {
      "cell_type": "code",
      "execution_count": 12,
      "metadata": {},
      "outputs": [
        {
          "data": {
            "text/plain": [
              "array([15.876303 , -0.7163162, 34.933765 , 23.322264 , 13.529976 ],\n",
              "      dtype=float32)"
            ]
          },
          "execution_count": 13,
          "metadata": {},
          "output_type": "execute_result"
        }
      ],
      "source": [
        "oinf = OnnxInference(onnx_model32, runtime=\"onnxruntime1\")\n",
        "ort_pred = oinf.run({'X': X_test.astype(numpy.float32)})['Y']\n",
        "ort_pred[:5]"
      ]
    },
    {
      "cell_type": "markdown",
      "metadata": {},
      "source": [
        "## With double instead of single float\n",
        "\n",
        "[ONNX](https://onnx.ai/) was originally designed for deep learning which usually uses floats but it does not mean cannot be used. Every number is converted into double floats."
      ]
    },
    {
      "cell_type": "code",
      "execution_count": 13,
      "metadata": {},
      "outputs": [],
      "source": [
        "onnx_fct = OnnxAdd(OnnxMatMul('X', clr.coef_.astype(numpy.float64)),\n",
        "                   numpy.array([clr.intercept_]),\n",
        "                   output_names=['Y'])\n",
        "onnx_model64 = onnx_fct.to_onnx({'X': X_test.astype(numpy.float64)},\n",
        "                              dtype=numpy.float64)"
      ]
    },
    {
      "cell_type": "markdown",
      "metadata": {},
      "source": [
        "And now the *python* runtime..."
      ]
    },
    {
      "cell_type": "code",
      "execution_count": 14,
      "metadata": {},
      "outputs": [
        {
          "data": {
            "text/plain": [
              "array([15.8763016 , -0.71631653, 34.93376518, 23.32226277, 13.52997418])"
            ]
          },
          "execution_count": 15,
          "metadata": {},
          "output_type": "execute_result"
        }
      ],
      "source": [
        "oinf = OnnxInference(onnx_model64)\n",
        "ort_pred = oinf.run({'X': X_test})['Y']\n",
        "ort_pred[:5]"
      ]
    },
    {
      "cell_type": "markdown",
      "metadata": {},
      "source": [
        "And the *onnxruntime* version of it, not fully supportive of double yet..."
      ]
    },
    {
      "cell_type": "code",
      "execution_count": 15,
      "metadata": {},
      "outputs": [
        {
          "name": "stdout",
          "output_type": "stream",
          "text": [
            "[ONNXRuntimeError] : 9 : NOT_IMPLEMENTED : Could not find an implementation for the node Add:Add(7)\n"
          ]
        }
      ],
      "source": [
        "try:\n",
        "    oinf = OnnxInference(onnx_model64, runtime=\"onnxruntime1\")\n",
        "    ort_pred = oinf.run({'X': X_test.astype(numpy.float64)})['Y']\n",
        "    ort_pred[:5]\n",
        "except RuntimeError as e:\n",
        "    print(e)"
      ]
    },
    {
      "cell_type": "markdown",
      "metadata": {},
      "source": [
        "## And now the GaussianProcess\n",
        "\n",
        "This shows a case"
      ]
    },
    {
      "cell_type": "code",
      "execution_count": 16,
      "metadata": {},
      "outputs": [
        {
          "data": {
            "text/plain": [
              "GaussianProcessRegressor(alpha=10, copy_X_train=True,\n",
              "                         kernel=DotProduct(sigma_0=1), n_restarts_optimizer=0,\n",
              "                         normalize_y=False, optimizer='fmin_l_bfgs_b',\n",
              "                         random_state=None)"
            ]
          },
          "execution_count": 17,
          "metadata": {},
          "output_type": "execute_result"
        }
      ],
      "source": [
        "from sklearn.gaussian_process import GaussianProcessRegressor\n",
        "from sklearn.gaussian_process.kernels import DotProduct\n",
        "gau = GaussianProcessRegressor(alpha=10, kernel=DotProduct())\n",
        "gau.fit(X_train, y_train)"
      ]
    },
    {
      "cell_type": "code",
      "execution_count": 17,
      "metadata": {},
      "outputs": [
        {
          "data": {
            "text/plain": [
              "array([16.4375, -2.    , 33.75  , 23.    , 12.625 , 21.5   ,  3.    ,\n",
              "       25.375 , 17.    , 21.4375, 30.    , 27.8125, 33.0625, 22.8125,\n",
              "       16.375 , 19.3125, 19.75  , 24.25  , 22.25  , 25.5   , 34.625 ,\n",
              "       32.25  ,  9.0625, 17.125 , 42.1875], dtype=float32)"
            ]
          },
          "execution_count": 18,
          "metadata": {},
          "output_type": "execute_result"
        }
      ],
      "source": [
        "from skl2onnx import to_onnx\n",
        "onnxgau32 = to_onnx(gau, X_train.astype(numpy.float32), dtype=numpy.float32)\n",
        "oinf32 = OnnxInference(onnxgau32, runtime=\"python\")\n",
        "ort_pred32 = oinf32.run({'X': X_test.astype(numpy.float32)})['GPmean']\n",
        "numpy.squeeze(ort_pred32)[:25]"
      ]
    },
    {
      "cell_type": "code",
      "execution_count": 18,
      "metadata": {},
      "outputs": [
        {
          "data": {
            "text/plain": [
              "array([16.04081028, -2.01646275, 34.10963296, 23.26133518, 13.44183912,\n",
              "       21.37161805,  2.49549085, 25.18234533, 17.8935267 , 20.88278054,\n",
              "       30.00257955, 27.97794299, 33.49701693, 22.92631105, 16.6742227 ,\n",
              "       19.24649946, 20.32735247, 24.13743567, 22.35845436, 25.10696109,\n",
              "       34.4250675 , 32.68237862,  9.30724677, 17.33682715, 42.38769632])"
            ]
          },
          "execution_count": 19,
          "metadata": {},
          "output_type": "execute_result"
        }
      ],
      "source": [
        "onnxgau64 = to_onnx(gau, X_train.astype(numpy.float64), dtype=numpy.float64)\n",
        "oinf64 = OnnxInference(onnxgau64, runtime=\"python\")\n",
        "ort_pred64 = oinf64.run({'X': X_test.astype(numpy.float64)})['GPmean']\n",
        "numpy.squeeze(ort_pred64)[:25]"
      ]
    },
    {
      "cell_type": "markdown",
      "metadata": {},
      "source": [
        "The differences between the predictions for single floats and double floats..."
      ]
    },
    {
      "cell_type": "code",
      "execution_count": 19,
      "metadata": {},
      "outputs": [
        {
          "data": {
            "text/plain": [
              "array([0.54388054, 0.54659484, 0.55471946, 0.63846466, 1.20325194])"
            ]
          },
          "execution_count": 20,
          "metadata": {},
          "output_type": "execute_result"
        }
      ],
      "source": [
        "numpy.sort(numpy.sort(numpy.squeeze(ort_pred32 - ort_pred64)))[-5:]"
      ]
    },
    {
      "cell_type": "markdown",
      "metadata": {},
      "source": [
        "Who's right or wrong... The differences between the predictions with the original model..."
      ]
    },
    {
      "cell_type": "code",
      "execution_count": 20,
      "metadata": {},
      "outputs": [],
      "source": [
        "pred = gau.predict(X_test.astype(numpy.float64))"
      ]
    },
    {
      "cell_type": "code",
      "execution_count": 21,
      "metadata": {},
      "outputs": [
        {
          "data": {
            "text/plain": [
              "array([0.54388054, 0.54659484, 0.55471946, 0.63846466, 1.20325194])"
            ]
          },
          "execution_count": 22,
          "metadata": {},
          "output_type": "execute_result"
        }
      ],
      "source": [
        "numpy.sort(numpy.sort(numpy.squeeze(ort_pred32 - pred)))[-5:]"
      ]
    },
    {
      "cell_type": "code",
      "execution_count": 22,
      "metadata": {},
      "outputs": [
        {
          "data": {
            "text/plain": [
              "array([0., 0., 0., 0., 0.])"
            ]
          },
          "execution_count": 23,
          "metadata": {},
          "output_type": "execute_result"
        }
      ],
      "source": [
        "numpy.sort(numpy.sort(numpy.squeeze(ort_pred64 - pred)))[-5:]"
      ]
    },
    {
      "cell_type": "markdown",
      "metadata": {},
      "source": [
        "Double predictions clearly wins."
      ]
    },
    {
      "cell_type": "code",
      "execution_count": 23,
      "metadata": {},
      "outputs": [
        {
          "data": {
            "text/html": [
              "<div id=\"Mb19f4dbfd19b4dcb99463c9e32f37709-cont\"><div id=\"Mb19f4dbfd19b4dcb99463c9e32f37709\" style=\"width:100%;height:100%;\"></div></div>\n",
              "<script>\n",
              "\n",
              "require(['http://www.xavierdupre.fr/js/vizjs/viz.js'], function() { var svgGraph = Viz(\"digraph{\\n  ranksep=0.25;\\n  orientation=portrait;\\n  nodesep=0.05;\\n\\n  X [shape=box color=red label=\\\"X\\ndouble((1, 13))\\\" fontsize=10];\\n\\n  GPmean [shape=box color=green label=\\\"GPmean\\nfloat((1, 1))\\\" fontsize=10];\\n\\n  Transposecst [shape=box label=\\\"Transposecst\\nfloat64((379, 13))\\n[[1.96500e-02 8.00000e+01 1.76...\\\" fontsize=10];\\n  Addcst [shape=box label=\\\"Addcst\\nfloat64((1,))\\n[666.75757861]\\\" fontsize=10];\\n  MatMulcst [shape=box label=\\\"MatMulcst\\nfloat64((379,))\\n[ 2.68799696e-02 -6.00896841e-...\\\" fontsize=10];\\n  Addcst1 [shape=box label=\\\"Addcst1\\nfloat64((1, 1))\\n[[0.]]\\\" fontsize=10];\\n\\n  O04 [shape=box label=\\\"O04\\\" fontsize=10];\\n  Transpose [shape=box style=\\\"filled,rounded\\\" color=orange label=\\\"Transpose\\n(Transpose)\\nperm=[1 0]\\\" fontsize=10];\\n  Transposecst -> Transpose;\\n  Transpose -> O04;\\n\\n  O03 [shape=box label=\\\"O03\\\" fontsize=10];\\n  MatMul [shape=box style=\\\"filled,rounded\\\" color=orange label=\\\"MatMul\\n(MatMul)\\\" fontsize=10];\\n  X -> MatMul;\\n  O04 -> MatMul;\\n  MatMul -> O03;\\n\\n  O02 [shape=box label=\\\"O02\\\" fontsize=10];\\n  Add [shape=box style=\\\"filled,rounded\\\" color=orange label=\\\"Add\\n(Add)\\\" fontsize=10];\\n  O03 -> Add;\\n  Addcst -> Add;\\n  Add -> O02;\\n\\n  O01 [shape=box label=\\\"O01\\\" fontsize=10];\\n  Identity [shape=box style=\\\"filled,rounded\\\" color=orange label=\\\"Identity\\n(Identity)\\\" fontsize=10];\\n  O02 -> Identity;\\n  Identity -> O01;\\n\\n  O0 [shape=box label=\\\"O0\\\" fontsize=10];\\n  MatMul1 [shape=box style=\\\"filled,rounded\\\" color=orange label=\\\"MatMul\\n(MatMul1)\\\" fontsize=10];\\n  O01 -> MatMul1;\\n  MatMulcst -> MatMul1;\\n  MatMul1 -> O0;\\n\\n  Add1 [shape=box style=\\\"filled,rounded\\\" color=orange label=\\\"Add\\n(Add1)\\\" fontsize=10];\\n  O0 -> Add1;\\n  Addcst1 -> Add1;\\n  Add1 -> GPmean;\\n}\");\n",
              "document.getElementById('Mb19f4dbfd19b4dcb99463c9e32f37709').innerHTML = svgGraph; });\n",
              "\n",
              "</script>"
            ],
            "text/plain": [
              "<jyquickhelper.jspy.render_nb_js_dot.RenderJsDot at 0x12cb2409080>"
            ]
          },
          "execution_count": 24,
          "metadata": {},
          "output_type": "execute_result"
        }
      ],
      "source": [
        "%onnxview onnxgau64"
      ]
    },
    {
      "cell_type": "markdown",
      "metadata": {},
      "source": [
        "## Saves...\n",
        "\n",
        "Let's keep track of it."
      ]
    },
    {
      "cell_type": "code",
      "execution_count": 24,
      "metadata": {},
      "outputs": [],
      "source": [
        "with open(\"gpr_dot_product_boston_32.onnx\", \"wb\") as f:\n",
        "    f.write(onnxgau32.SerializePartialToString())"
      ]
    },
    {
      "cell_type": "code",
      "execution_count": 25,
      "metadata": {},
      "outputs": [],
      "source": [
        "with open(\"gpr_dot_product_boston_64.onnx\", \"wb\") as f:\n",
        "    f.write(onnxgau64.SerializePartialToString())"
      ]
    },
    {
      "cell_type": "code",
      "execution_count": 26,
      "metadata": {},
      "outputs": [],
      "source": []
    }
  ],
  "metadata": {
    "kernelspec": {
      "display_name": "Python 3",
      "language": "python",
      "name": "python3"
    },
    "language_info": {
      "codemirror_mode": {
        "name": "ipython",
        "version": 3
      },
      "file_extension": ".py",
      "mimetype": "text/x-python",
      "name": "python",
      "nbconvert_exporter": "python",
      "pygments_lexer": "ipython3",
      "version": "3.7.2"
    }
  },
  "nbformat": 4,
  "nbformat_minor": 2
}