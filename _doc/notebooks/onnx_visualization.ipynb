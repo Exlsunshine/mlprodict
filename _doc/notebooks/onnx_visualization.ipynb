{
  "cells": [
    {
      "cell_type": "markdown",
      "metadata": {},
      "source": [
        "# ONNX visualization\n",
        "\n",
        "[ONNX](https://onnx.ai/) is a serialization format for machine learned model. It is a list of mathematical functions used to describe every prediction function for standard and deep machine learning. Module [onnx](https://github.com/onnx/onnx) offers some tools to [display ONNX graph](http://www.xavierdupre.fr/app/sklearn-onnx/helpsphinx/auto_examples/plot_pipeline.html). [Netron](https://github.com/lutzroeder/netron) is another approach. The following notebooks explore a ligher visualization."
      ]
    },
    {
      "cell_type": "code",
      "execution_count": 1,
      "metadata": {},
      "outputs": [
        {
          "data": {
            "text/html": [
              "<div id=\"my_id_menu_nb\">run previous cell, wait for 2 seconds</div>\n",
              "<script>\n",
              "function repeat_indent_string(n){\n",
              "    var a = \"\" ;\n",
              "    for ( ; n > 0 ; --n)\n",
              "        a += \"    \";\n",
              "    return a;\n",
              "}\n",
              "// look up into all sections and builds an automated menu //\n",
              "var update_menu_string = function(begin, lfirst, llast, sformat, send, keep_item, begin_format, end_format) {\n",
              "    var anchors = document.getElementsByClassName(\"section\");\n",
              "    if (anchors.length == 0) {\n",
              "        anchors = document.getElementsByClassName(\"text_cell_render rendered_html\");\n",
              "    }\n",
              "    var i,t;\n",
              "    var text_menu = begin;\n",
              "    var text_memo = \"<pre>\\nlength:\" + anchors.length + \"\\n\";\n",
              "    var ind = \"\";\n",
              "    var memo_level = 1;\n",
              "    var href;\n",
              "    var tags = [];\n",
              "    var main_item = 0;\n",
              "    var format_open = 0;\n",
              "    for (i = 0; i <= llast; i++)\n",
              "        tags.push(\"h\" + i);\n",
              "\n",
              "    for (i = 0; i < anchors.length; i++) {\n",
              "        text_memo += \"**\" + anchors[i].id + \"--\\n\";\n",
              "\n",
              "        var child = null;\n",
              "        for(t = 0; t < tags.length; t++) {\n",
              "            var r = anchors[i].getElementsByTagName(tags[t]);\n",
              "            if (r.length > 0) {\n",
              "child = r[0];\n",
              "break;\n",
              "            }\n",
              "        }\n",
              "        if (child == null) {\n",
              "            text_memo += \"null\\n\";\n",
              "            continue;\n",
              "        }\n",
              "        if (anchors[i].hasAttribute(\"id\")) {\n",
              "            // when converted in RST\n",
              "            href = anchors[i].id;\n",
              "            text_memo += \"#1-\" + href;\n",
              "            // passer \u00e0 child suivant (le chercher)\n",
              "        }\n",
              "        else if (child.hasAttribute(\"id\")) {\n",
              "            // in a notebook\n",
              "            href = child.id;\n",
              "            text_memo += \"#2-\" + href;\n",
              "        }\n",
              "        else {\n",
              "            text_memo += \"#3-\" + \"*\" + \"\\n\";\n",
              "            continue;\n",
              "        }\n",
              "        var title = child.textContent;\n",
              "        var level = parseInt(child.tagName.substring(1,2));\n",
              "\n",
              "        text_memo += \"--\" + level + \"?\" + lfirst + \"--\" + title + \"\\n\";\n",
              "\n",
              "        if ((level < lfirst) || (level > llast)) {\n",
              "            continue ;\n",
              "        }\n",
              "        if (title.endsWith('\u00b6')) {\n",
              "            title = title.substring(0,title.length-1).replace(\"<\", \"&lt;\")\n",
              "         .replace(\">\", \"&gt;\").replace(\"&\", \"&amp;\");\n",
              "        }\n",
              "        if (title.length == 0) {\n",
              "            continue;\n",
              "        }\n",
              "\n",
              "        while (level < memo_level) {\n",
              "            text_menu += end_format + \"</ul>\\n\";\n",
              "            format_open -= 1;\n",
              "            memo_level -= 1;\n",
              "        }\n",
              "        if (level == lfirst) {\n",
              "            main_item += 1;\n",
              "        }\n",
              "        if (keep_item != -1 && main_item != keep_item + 1) {\n",
              "            // alert(main_item + \" - \" + level + \" - \" + keep_item);\n",
              "            continue;\n",
              "        }\n",
              "        while (level > memo_level) {\n",
              "            text_menu += \"<ul>\\n\";\n",
              "            memo_level += 1;\n",
              "        }\n",
              "        text_menu += repeat_indent_string(level-2);\n",
              "        text_menu += begin_format + sformat.replace(\"__HREF__\", href).replace(\"__TITLE__\", title);\n",
              "        format_open += 1;\n",
              "    }\n",
              "    while (1 < memo_level) {\n",
              "        text_menu += end_format + \"</ul>\\n\";\n",
              "        memo_level -= 1;\n",
              "        format_open -= 1;\n",
              "    }\n",
              "    text_menu += send;\n",
              "    //text_menu += \"\\n\" + text_memo;\n",
              "\n",
              "    while (format_open > 0) {\n",
              "        text_menu += end_format;\n",
              "        format_open -= 1;\n",
              "    }\n",
              "    return text_menu;\n",
              "};\n",
              "var update_menu = function() {\n",
              "    var sbegin = \"\";\n",
              "    var sformat = '<a href=\"#__HREF__\">__TITLE__</a>';\n",
              "    var send = \"\";\n",
              "    var begin_format = '<li>';\n",
              "    var end_format = '</li>';\n",
              "    var keep_item = -1;\n",
              "    var text_menu = update_menu_string(sbegin, 2, 4, sformat, send, keep_item,\n",
              "       begin_format, end_format);\n",
              "    var menu = document.getElementById(\"my_id_menu_nb\");\n",
              "    menu.innerHTML=text_menu;\n",
              "};\n",
              "window.setTimeout(update_menu,2000);\n",
              "            </script>"
            ],
            "text/plain": [
              "<IPython.core.display.HTML object>"
            ]
          },
          "execution_count": 2,
          "metadata": {},
          "output_type": "execute_result"
        }
      ],
      "source": [
        "from jyquickhelper import add_notebook_menu\n",
        "add_notebook_menu()"
      ]
    },
    {
      "cell_type": "markdown",
      "metadata": {},
      "source": [
        "## Train a model"
      ]
    },
    {
      "cell_type": "code",
      "execution_count": 2,
      "metadata": {},
      "outputs": [
        {
          "data": {
            "text/plain": [
              "LogisticRegression(C=1.0, class_weight=None, dual=False, fit_intercept=True,\n",
              "                   intercept_scaling=1, l1_ratio=None, max_iter=100,\n",
              "                   multi_class='auto', n_jobs=None, penalty='l2',\n",
              "                   random_state=None, solver='liblinear', tol=0.0001, verbose=0,\n",
              "                   warm_start=False)"
            ]
          },
          "execution_count": 3,
          "metadata": {},
          "output_type": "execute_result"
        }
      ],
      "source": [
        "from sklearn.datasets import load_iris\n",
        "from sklearn.model_selection import train_test_split\n",
        "from sklearn.linear_model import LogisticRegression\n",
        "iris = load_iris()\n",
        "X, y = iris.data, iris.target\n",
        "X_train, X_test, y_train, y_test = train_test_split(X, y)\n",
        "clr = LogisticRegression(solver='liblinear')\n",
        "clr.fit(X_train, y_train)"
      ]
    },
    {
      "cell_type": "markdown",
      "metadata": {},
      "source": [
        "## Convert a model"
      ]
    },
    {
      "cell_type": "code",
      "execution_count": 3,
      "metadata": {},
      "outputs": [
        {
          "name": "stderr",
          "output_type": "stream",
          "text": [
            "The maximum opset needed by this model is only 1.\n",
            "The maximum opset needed by this model is only 9.\n"
          ]
        }
      ],
      "source": [
        "import numpy\n",
        "from skl2onnx import to_onnx\n",
        "model_onnx = to_onnx(clr, X_train.astype(numpy.float32))"
      ]
    },
    {
      "cell_type": "markdown",
      "metadata": {},
      "source": [
        "## Explore it with OnnxInference"
      ]
    },
    {
      "cell_type": "code",
      "execution_count": 4,
      "metadata": {
        "scrolled": false
      },
      "outputs": [
        {
          "data": {
            "text/plain": [
              "OnnxInference(...)"
            ]
          },
          "execution_count": 5,
          "metadata": {},
          "output_type": "execute_result"
        }
      ],
      "source": [
        "from mlprodict.onnxrt import OnnxInference\n",
        "\n",
        "sess = OnnxInference(model_onnx)\n",
        "sess"
      ]
    },
    {
      "cell_type": "code",
      "execution_count": 5,
      "metadata": {
        "scrolled": false
      },
      "outputs": [
        {
          "name": "stdout",
          "output_type": "stream",
          "text": [
            "ir_version: 5\n",
            "producer_name: \"skl2onnx\"\n",
            "producer_version: \"1.5.9999\"\n",
            "domain: \"ai.onnx\"\n",
            "model_version: 0\n",
            "doc_string: \"\"\n",
            "graph {\n",
            "  node {\n",
            "    input: \"X\"\n",
            "    output: \"label\"\n",
            "    output: \"probability_tensor\"\n",
            "    name: \"LinearClassifier\"\n",
            "    op_type: \"LinearClassifier\"\n",
            "    attribute {\n",
            "      name: \"classlabels_ints\"\n",
            "      ints: 0\n",
            "      ints: 1\n",
            "      ints: 2\n",
            "      type: INTS\n",
            "    }\n",
            "    attribute {\n",
            "      name: \"coefficients\"\n",
            "      floats: 0.38238996267318726\n",
            "      floats: 1.387866735458374\n",
            "      floats: -2.1189470291137695\n",
            "      floats: -0.9714259505271912\n",
            "      floats: 0.5414416193962097\n",
            "      floats: -1.6170357465744019\n",
            "      floats: 0.39679303765296936\n",
            "      floats: -1.149908423423767\n",
            "      floats: -1.5385243892669678\n",
            "      floats: -1.4726897478103638\n",
            "      floats: 2.333249807357788\n",
            "      floats: 2.149620771408081\n",
            "      type: FLOATS\n",
            "    }\n",
            "    attribute {\n",
            "      name: \"intercepts\"\n",
            "      floats: 0.24709808826446533\n",
            "      floats: 0.6978977918624878\n",
            "      floats: -0.9166491627693176\n",
            "      type: FLOATS\n",
            "    }\n",
            "    attribute {\n",
            "      name: \"multi_class\"\n",
            "      i: 1\n",
            "      type: INT\n",
            "    }\n",
            "    attribute {\n",
            "      name: \"post_transform\"\n",
            "      s: \"LOGISTIC\"\n",
            "      type: STRING\n",
            "    }\n",
            "    domain: \"ai.onnx.ml\"\n",
            "  }\n",
            "  node {\n",
            "    input: \"probability_tensor\"\n",
            "    output: \"probabilities\"\n",
            "    name: \"Normalizer\"\n",
            "    op_type: \"Normalizer\"\n",
            "    attribute {\n",
            "      name: \"norm\"\n",
            "      s: \"L1\"\n",
            "      type: STRING\n",
            "    }\n",
            "    domain: \"ai.onnx.ml\"\n",
            "  }\n",
            "  node {\n",
            "    input: \"label\"\n",
            "    output: \"output_label\"\n",
            "    name: \"Cast\"\n",
            "    op_type: \"Cast\"\n",
            "    attribute {\n",
            "      name: \"to\"\n",
            "      i: 7\n",
            "      type: INT\n",
            "    }\n",
            "    domain: \"\"\n",
            "  }\n",
            "  node {\n",
            "    input: \"probabilities\"\n",
            "    output: \"output_probability\"\n",
            "    name: \"ZipMap\"\n",
            "    op_type: \"ZipMap\"\n",
            "    attribute {\n",
            "      name: \"classlabels_int64s\"\n",
            "      ints: 0\n",
            "      ints: 1\n",
            "      ints: 2\n",
            "      type: INTS\n",
            "    }\n",
            "    domain: \"ai.onnx.ml\"\n",
            "  }\n",
            "  name: \"LogisticRegression\"\n",
            "  input {\n",
            "    name: \"X\"\n",
            "    type {\n",
            "      tensor_type {\n",
            "        elem_type: 1\n",
            "        shape {\n",
            "          dim {\n",
            "            dim_value: 1\n",
            "          }\n",
            "          dim {\n",
            "            dim_value: 4\n",
            "          }\n",
            "        }\n",
            "      }\n",
            "    }\n",
            "  }\n",
            "  output {\n",
            "    name: \"output_label\"\n",
            "    type {\n",
            "      tensor_type {\n",
            "        elem_type: 7\n",
            "        shape {\n",
            "          dim {\n",
            "            dim_value: 1\n",
            "          }\n",
            "        }\n",
            "      }\n",
            "    }\n",
            "  }\n",
            "  output {\n",
            "    name: \"output_probability\"\n",
            "    type {\n",
            "      sequence_type {\n",
            "        elem_type {\n",
            "          map_type {\n",
            "            key_type: 7\n",
            "            value_type {\n",
            "              tensor_type {\n",
            "                elem_type: 1\n",
            "              }\n",
            "            }\n",
            "          }\n",
            "        }\n",
            "      }\n",
            "    }\n",
            "  }\n",
            "}\n",
            "opset_import {\n",
            "  domain: \"ai.onnx.ml\"\n",
            "  version: 1\n",
            "}\n",
            "opset_import {\n",
            "  domain: \"\"\n",
            "  version: 9\n",
            "}\n",
            "\n"
          ]
        }
      ],
      "source": [
        "print(sess)"
      ]
    },
    {
      "cell_type": "markdown",
      "metadata": {},
      "source": [
        "## dot"
      ]
    },
    {
      "cell_type": "code",
      "execution_count": 6,
      "metadata": {},
      "outputs": [
        {
          "name": "stdout",
          "output_type": "stream",
          "text": [
            "digraph{\n",
            "  ranksep=0.25;\n",
            "  nodesep=0.05;\n",
            "  orientation=portrait;\n",
            "\n",
            "  X [shape=box color=red label=\"X\\nfloat((1, 4))\" fontsize=10];\n",
            "\n",
            "  output_label [shape=box color=green label=\"output_label\\nint64((1,))\" fontsize=10];\n",
            "  output_probability [shape=box color=green label=\"output_probability\\n[{int64, {'kind': 'tensor', 'elem': 'float', 'shape': }}]\" fontsize=10];\n",
            "\n",
            "\n",
            "  label [shape=box label=\"label\" fontsize=10];\n",
            "  probability_tensor [shape=box label=\"probability_tensor\" fontsize=10];\n",
            "  LinearClassifier [shape=box style=\"filled,rounded\" color=orange label=\"LinearClassifier\\n(LinearClassifier)\\nclasslabels_ints=[0 1 2]\\ncoefficients=[ 0.38238996  1.38...\\nintercepts=[ 0.24709809  0.6978...\\nmulti_class=1\\npost_transform=b'LOGISTIC'\" fontsize=10];\n",
            "  X -> LinearClassifier;\n",
            "  LinearClassifier -> label;\n",
            "  LinearClassifier -> probability_tensor;\n",
            "\n",
            "  probabilities [shape=box label=\"probabilities\" fontsize=10];\n",
            "  Normalizer [shape=box style=\"filled,rounded\" color=orange label=\"Normalizer\\n(Normalizer)\\nnorm=b'L1'\" fontsize=10];\n",
            "  probability_tensor -> Normalizer;\n",
            "  Normalizer -> probabilities;\n",
            "\n",
            "  Cast [shape=box style=\"filled,rounded\" color=orange label=\"Cast\\n(Cast)\\nto=7\" fontsize=10];\n",
            "  label -> Cast;\n",
            "  Cast -> output_label;\n",
            "\n",
            "  ZipMap [shape=box style=\"filled,rounded\" color=orange label=\"ZipMap\\n(ZipMap)\\nclasslabels_int64s=[0 1 2]\" fontsize=10];\n",
            "  probabilities -> ZipMap;\n",
            "  ZipMap -> output_probability;\n",
            "}\n"
          ]
        }
      ],
      "source": [
        "dot = sess.to_dot()\n",
        "print(dot)"
      ]
    },
    {
      "cell_type": "code",
      "execution_count": 7,
      "metadata": {},
      "outputs": [
        {
          "data": {
            "text/html": [
              "<div id=\"M3c8a3e96df7d473fa4008b752264907a-cont\"><div id=\"M3c8a3e96df7d473fa4008b752264907a\" style=\"width:100%;height:100%;\"></div></div>\n",
              "<script>\n",
              "\n",
              "require(['http://www.xavierdupre.fr/js/vizjs/viz.js'], function() { var svgGraph = Viz(\"digraph{\\n  ranksep=0.25;\\n  nodesep=0.05;\\n  orientation=portrait;\\n\\n  X [shape=box color=red label=\\\"X\\nfloat((1, 4))\\\" fontsize=10];\\n\\n  output_label [shape=box color=green label=\\\"output_label\\nint64((1,))\\\" fontsize=10];\\n  output_probability [shape=box color=green label=\\\"output_probability\\n[{int64, {'kind': 'tensor', 'elem': 'float', 'shape': }}]\\\" fontsize=10];\\n\\n\\n  label [shape=box label=\\\"label\\\" fontsize=10];\\n  probability_tensor [shape=box label=\\\"probability_tensor\\\" fontsize=10];\\n  LinearClassifier [shape=box style=\\\"filled,rounded\\\" color=orange label=\\\"LinearClassifier\\n(LinearClassifier)\\nclasslabels_ints=[0 1 2]\\ncoefficients=[ 0.38238996  1.38...\\nintercepts=[ 0.24709809  0.6978...\\nmulti_class=1\\npost_transform=b'LOGISTIC'\\\" fontsize=10];\\n  X -> LinearClassifier;\\n  LinearClassifier -> label;\\n  LinearClassifier -> probability_tensor;\\n\\n  probabilities [shape=box label=\\\"probabilities\\\" fontsize=10];\\n  Normalizer [shape=box style=\\\"filled,rounded\\\" color=orange label=\\\"Normalizer\\n(Normalizer)\\nnorm=b'L1'\\\" fontsize=10];\\n  probability_tensor -> Normalizer;\\n  Normalizer -> probabilities;\\n\\n  Cast [shape=box style=\\\"filled,rounded\\\" color=orange label=\\\"Cast\\n(Cast)\\nto=7\\\" fontsize=10];\\n  label -> Cast;\\n  Cast -> output_label;\\n\\n  ZipMap [shape=box style=\\\"filled,rounded\\\" color=orange label=\\\"ZipMap\\n(ZipMap)\\nclasslabels_int64s=[0 1 2]\\\" fontsize=10];\\n  probabilities -> ZipMap;\\n  ZipMap -> output_probability;\\n}\");\n",
              "document.getElementById('M3c8a3e96df7d473fa4008b752264907a').innerHTML = svgGraph; });\n",
              "\n",
              "</script>"
            ],
            "text/plain": [
              "<jyquickhelper.jspy.render_nb_js_dot.RenderJsDot at 0x1d98854afd0>"
            ]
          },
          "execution_count": 8,
          "metadata": {},
          "output_type": "execute_result"
        }
      ],
      "source": [
        "from jyquickhelper import RenderJsDot\n",
        "RenderJsDot(dot)"
      ]
    },
    {
      "cell_type": "markdown",
      "metadata": {},
      "source": [
        "## runtime\n",
        "\n",
        "Let's compute the prediction using a Python runtime."
      ]
    },
    {
      "cell_type": "code",
      "execution_count": 8,
      "metadata": {},
      "outputs": [
        {
          "data": {
            "text/plain": [
              "[{0: 0.004945931230060537, 1: 0.2975278599159528, 2: 0.6975262088539865},\n",
              " {0: 0.001097307209673002, 1: 0.21864200269994002, 2: 0.780260690090387},\n",
              " {0: 0.8126892198504229, 1: 0.1870878713863503, 2: 0.00022290876322689126},\n",
              " {0: 0.04088627691198956, 1: 0.4575907757758892, 2: 0.5015229473121213},\n",
              " {0: 0.0005940552971759367, 1: 0.40686373628090544, 2: 0.5925422084219186}]"
            ]
          },
          "execution_count": 9,
          "metadata": {},
          "output_type": "execute_result"
        }
      ],
      "source": [
        "prob = sess.run({'X': X_test})['output_probability']\n",
        "prob[:5]"
      ]
    },
    {
      "cell_type": "code",
      "execution_count": 9,
      "metadata": {},
      "outputs": [
        {
          "data": {
            "text/plain": [
              "array([[4.94593123e-03, 2.97527860e-01, 6.97526209e-01],\n",
              "       [1.09730721e-03, 2.18642003e-01, 7.80260690e-01],\n",
              "       [8.12689220e-01, 1.87087871e-01, 2.22908763e-04],\n",
              "       [4.08862769e-02, 4.57590776e-01, 5.01522947e-01],\n",
              "       [5.94055297e-04, 4.06863736e-01, 5.92542208e-01]])"
            ]
          },
          "execution_count": 10,
          "metadata": {},
          "output_type": "execute_result"
        }
      ],
      "source": [
        "import pandas\n",
        "prob = pandas.DataFrame(prob).values\n",
        "prob[:5]"
      ]
    },
    {
      "cell_type": "markdown",
      "metadata": {},
      "source": [
        "Which we compare to the original model."
      ]
    },
    {
      "cell_type": "code",
      "execution_count": 10,
      "metadata": {},
      "outputs": [
        {
          "data": {
            "text/plain": [
              "array([[4.94593311e-03, 2.97527889e-01, 6.97526178e-01],\n",
              "       [1.09730767e-03, 2.18642025e-01, 7.80260668e-01],\n",
              "       [8.12689226e-01, 1.87087865e-01, 2.22908754e-04],\n",
              "       [4.08862888e-02, 4.57590805e-01, 5.01522906e-01],\n",
              "       [5.94055535e-04, 4.06863756e-01, 5.92542189e-01]])"
            ]
          },
          "execution_count": 11,
          "metadata": {},
          "output_type": "execute_result"
        }
      ],
      "source": [
        "clr.predict_proba(X_test)[:5]"
      ]
    },
    {
      "cell_type": "markdown",
      "metadata": {},
      "source": [
        "Some time measurement..."
      ]
    },
    {
      "cell_type": "code",
      "execution_count": 11,
      "metadata": {},
      "outputs": [
        {
          "name": "stdout",
          "output_type": "stream",
          "text": [
            "80.2 \u00b5s \u00b1 1.28 \u00b5s per loop (mean \u00b1 std. dev. of 7 runs, 10000 loops each)\n"
          ]
        }
      ],
      "source": [
        "%timeit clr.predict_proba(X_test)"
      ]
    },
    {
      "cell_type": "code",
      "execution_count": 12,
      "metadata": {},
      "outputs": [
        {
          "name": "stdout",
          "output_type": "stream",
          "text": [
            "172 \u00b5s \u00b1 16.6 \u00b5s per loop (mean \u00b1 std. dev. of 7 runs, 10000 loops each)\n"
          ]
        }
      ],
      "source": [
        "%timeit sess.run({'X': X_test})['output_probability']"
      ]
    },
    {
      "cell_type": "markdown",
      "metadata": {},
      "source": [
        "With one observation:"
      ]
    },
    {
      "cell_type": "code",
      "execution_count": 13,
      "metadata": {},
      "outputs": [
        {
          "name": "stdout",
          "output_type": "stream",
          "text": [
            "72.3 \u00b5s \u00b1 3.3 \u00b5s per loop (mean \u00b1 std. dev. of 7 runs, 10000 loops each)\n"
          ]
        }
      ],
      "source": [
        "%timeit clr.predict_proba(X_test[:1])"
      ]
    },
    {
      "cell_type": "code",
      "execution_count": 14,
      "metadata": {},
      "outputs": [
        {
          "name": "stdout",
          "output_type": "stream",
          "text": [
            "46.2 \u00b5s \u00b1 1.39 \u00b5s per loop (mean \u00b1 std. dev. of 7 runs, 10000 loops each)\n"
          ]
        }
      ],
      "source": [
        "%timeit sess.run({'X': X_test[:1]})['output_probability']"
      ]
    },
    {
      "cell_type": "code",
      "execution_count": 15,
      "metadata": {},
      "outputs": [],
      "source": [
        "%matplotlib inline"
      ]
    },
    {
      "cell_type": "code",
      "execution_count": 16,
      "metadata": {},
      "outputs": [
        {
          "data": {
            "image/png": "[encoded data removed]",
            "text/plain": [
              "<Figure size 864x216 with 1 Axes>"
            ]
          },
          "metadata": {
            "needs_background": "light"
          },
          "output_type": "display_data"
        }
      ],
      "source": [
        "from pyquickhelper.pycode.profiling import profile\n",
        "pr, df = profile(lambda: sess.run({'X': X_test})['output_probability'], as_df=True)\n",
        "ax = df[['namefct', 'cum_tall']].head(n=20).set_index('namefct').plot(kind='bar', figsize=(12, 3), rot=30)\n",
        "ax.set_title(\"example of a graph\")\n",
        "for la in ax.get_xticklabels():\n",
        "    la.set_horizontalalignment('right');"
      ]
    },
    {
      "cell_type": "code",
      "execution_count": 17,
      "metadata": {},
      "outputs": [],
      "source": []
    }
  ],
  "metadata": {
    "kernelspec": {
      "display_name": "Python 3",
      "language": "python",
      "name": "python3"
    },
    "language_info": {
      "codemirror_mode": {
        "name": "ipython",
        "version": 3
      },
      "file_extension": ".py",
      "mimetype": "text/x-python",
      "name": "python",
      "nbconvert_exporter": "python",
      "pygments_lexer": "ipython3",
      "version": "3.7.2"
    }
  },
  "nbformat": 4,
  "nbformat_minor": 2
}