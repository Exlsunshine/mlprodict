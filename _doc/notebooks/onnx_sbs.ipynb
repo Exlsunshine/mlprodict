{
  "cells": [
    {
      "cell_type": "markdown",
      "metadata": {},
      "source": [
        "# ONNX side by side\n",
        "\n",
        "The notebook compares two runtimes for the same ONNX and looks into differences at each step of the graph."
      ]
    },
    {
      "cell_type": "code",
      "execution_count": 1,
      "metadata": {},
      "outputs": [
        {
          "data": {
            "text/html": [
              "<div id=\"my_id_menu_nb\">run previous cell, wait for 2 seconds</div>\n",
              "<script>\n",
              "function repeat_indent_string(n){\n",
              "    var a = \"\" ;\n",
              "    for ( ; n > 0 ; --n)\n",
              "        a += \"    \";\n",
              "    return a;\n",
              "}\n",
              "// look up into all sections and builds an automated menu //\n",
              "var update_menu_string = function(begin, lfirst, llast, sformat, send, keep_item, begin_format, end_format) {\n",
              "    var anchors = document.getElementsByClassName(\"section\");\n",
              "    if (anchors.length == 0) {\n",
              "        anchors = document.getElementsByClassName(\"text_cell_render rendered_html\");\n",
              "    }\n",
              "    var i,t;\n",
              "    var text_menu = begin;\n",
              "    var text_memo = \"<pre>\\nlength:\" + anchors.length + \"\\n\";\n",
              "    var ind = \"\";\n",
              "    var memo_level = 1;\n",
              "    var href;\n",
              "    var tags = [];\n",
              "    var main_item = 0;\n",
              "    var format_open = 0;\n",
              "    for (i = 0; i <= llast; i++)\n",
              "        tags.push(\"h\" + i);\n",
              "\n",
              "    for (i = 0; i < anchors.length; i++) {\n",
              "        text_memo += \"**\" + anchors[i].id + \"--\\n\";\n",
              "\n",
              "        var child = null;\n",
              "        for(t = 0; t < tags.length; t++) {\n",
              "            var r = anchors[i].getElementsByTagName(tags[t]);\n",
              "            if (r.length > 0) {\n",
              "child = r[0];\n",
              "break;\n",
              "            }\n",
              "        }\n",
              "        if (child == null) {\n",
              "            text_memo += \"null\\n\";\n",
              "            continue;\n",
              "        }\n",
              "        if (anchors[i].hasAttribute(\"id\")) {\n",
              "            // when converted in RST\n",
              "            href = anchors[i].id;\n",
              "            text_memo += \"#1-\" + href;\n",
              "            // passer \u00e0 child suivant (le chercher)\n",
              "        }\n",
              "        else if (child.hasAttribute(\"id\")) {\n",
              "            // in a notebook\n",
              "            href = child.id;\n",
              "            text_memo += \"#2-\" + href;\n",
              "        }\n",
              "        else {\n",
              "            text_memo += \"#3-\" + \"*\" + \"\\n\";\n",
              "            continue;\n",
              "        }\n",
              "        var title = child.textContent;\n",
              "        var level = parseInt(child.tagName.substring(1,2));\n",
              "\n",
              "        text_memo += \"--\" + level + \"?\" + lfirst + \"--\" + title + \"\\n\";\n",
              "\n",
              "        if ((level < lfirst) || (level > llast)) {\n",
              "            continue ;\n",
              "        }\n",
              "        if (title.endsWith('\u00b6')) {\n",
              "            title = title.substring(0,title.length-1).replace(\"<\", \"&lt;\")\n",
              "         .replace(\">\", \"&gt;\").replace(\"&\", \"&amp;\");\n",
              "        }\n",
              "        if (title.length == 0) {\n",
              "            continue;\n",
              "        }\n",
              "\n",
              "        while (level < memo_level) {\n",
              "            text_menu += end_format + \"</ul>\\n\";\n",
              "            format_open -= 1;\n",
              "            memo_level -= 1;\n",
              "        }\n",
              "        if (level == lfirst) {\n",
              "            main_item += 1;\n",
              "        }\n",
              "        if (keep_item != -1 && main_item != keep_item + 1) {\n",
              "            // alert(main_item + \" - \" + level + \" - \" + keep_item);\n",
              "            continue;\n",
              "        }\n",
              "        while (level > memo_level) {\n",
              "            text_menu += \"<ul>\\n\";\n",
              "            memo_level += 1;\n",
              "        }\n",
              "        text_menu += repeat_indent_string(level-2);\n",
              "        text_menu += begin_format + sformat.replace(\"__HREF__\", href).replace(\"__TITLE__\", title);\n",
              "        format_open += 1;\n",
              "    }\n",
              "    while (1 < memo_level) {\n",
              "        text_menu += end_format + \"</ul>\\n\";\n",
              "        memo_level -= 1;\n",
              "        format_open -= 1;\n",
              "    }\n",
              "    text_menu += send;\n",
              "    //text_menu += \"\\n\" + text_memo;\n",
              "\n",
              "    while (format_open > 0) {\n",
              "        text_menu += end_format;\n",
              "        format_open -= 1;\n",
              "    }\n",
              "    return text_menu;\n",
              "};\n",
              "var update_menu = function() {\n",
              "    var sbegin = \"\";\n",
              "    var sformat = '<a href=\"#__HREF__\">__TITLE__</a>';\n",
              "    var send = \"\";\n",
              "    var begin_format = '<li>';\n",
              "    var end_format = '</li>';\n",
              "    var keep_item = -1;\n",
              "    var text_menu = update_menu_string(sbegin, 2, 4, sformat, send, keep_item,\n",
              "       begin_format, end_format);\n",
              "    var menu = document.getElementById(\"my_id_menu_nb\");\n",
              "    menu.innerHTML=text_menu;\n",
              "};\n",
              "window.setTimeout(update_menu,2000);\n",
              "            </script>"
            ],
            "text/plain": [
              "<IPython.core.display.HTML object>"
            ]
          },
          "execution_count": 2,
          "metadata": {},
          "output_type": "execute_result"
        }
      ],
      "source": [
        "from jyquickhelper import add_notebook_menu\n",
        "add_notebook_menu()"
      ]
    },
    {
      "cell_type": "code",
      "execution_count": 2,
      "metadata": {},
      "outputs": [],
      "source": [
        "%load_ext mlprodict"
      ]
    },
    {
      "cell_type": "code",
      "execution_count": 3,
      "metadata": {},
      "outputs": [],
      "source": [
        "%matplotlib inline"
      ]
    },
    {
      "cell_type": "markdown",
      "metadata": {},
      "source": [
        "## The ONNX model\n",
        "\n",
        "We convert kernel function used in [GaussianProcessRegressor](https://scikit-learn.org/stable/modules/generated/sklearn.gaussian_process.GaussianProcessRegressor.html). First some values to use for testing."
      ]
    },
    {
      "cell_type": "code",
      "execution_count": 4,
      "metadata": {},
      "outputs": [],
      "source": [
        "import numpy\n",
        "import pandas\n",
        "from io import StringIO\n",
        "\n",
        "Xtest = pandas.read_csv(StringIO(\"\"\"\n",
        "1.000000000000000000e+02,1.061277971307766705e+02,1.472195004809226493e+00,2.307125069497626552e-02,4.539948095743629591e-02,2.855191098141335870e-01\n",
        "1.000000000000000000e+02,9.417031896832908444e+01,1.249743892709246573e+00,2.370416174339620707e-02,2.613847280316268853e-02,5.097165413593484073e-01\n",
        "1.000000000000000000e+02,9.305231488674536422e+01,1.795726729335217264e+00,2.473274733802270642e-02,1.349765645107412620e-02,9.410288840541443378e-02\n",
        "1.000000000000000000e+02,7.411264142156210255e+01,1.747723020195752319e+00,1.559695663417645997e-02,4.230394035515055301e-02,2.225492746314280956e-01\n",
        "1.000000000000000000e+02,9.326006195761877393e+01,1.738860294343326229e+00,2.280160135767652502e-02,4.883335335161764074e-02,2.806808409247734115e-01\n",
        "1.000000000000000000e+02,8.341529291866362428e+01,5.119682123742423929e-01,2.488795768635816003e-02,4.887573336092913834e-02,1.673462179673477768e-01\n",
        "1.000000000000000000e+02,1.182436477919874562e+02,1.733516391831658954e+00,1.533520930349476820e-02,3.131213519485807895e-02,1.955345358785769427e-01\n",
        "1.000000000000000000e+02,1.228982583299257101e+02,1.115599996405831629e+00,1.929354155079938959e-02,3.056996308544096715e-03,1.197052763998271013e-01\n",
        "1.000000000000000000e+02,1.160303269386108838e+02,1.018627021014927303e+00,2.248784981616459844e-02,2.688111547114307651e-02,3.326105131778724355e-01\n",
        "1.000000000000000000e+02,1.163414374640396005e+02,6.644299545804077667e-01,1.508088417713602906e-02,4.451836657613789106e-02,3.245643044204808425e-01\n",
        "\"\"\".strip(\"\\n\\r \")), header=None).values"
      ]
    },
    {
      "cell_type": "markdown",
      "metadata": {},
      "source": [
        "Then the kernel."
      ]
    },
    {
      "cell_type": "code",
      "execution_count": 5,
      "metadata": {},
      "outputs": [
        {
          "data": {
            "text/plain": [
              "0.316**2 * RBF(length_scale=10) + 0.316**2 * RBF(length_scale=1)"
            ]
          },
          "execution_count": 6,
          "metadata": {},
          "output_type": "execute_result"
        }
      ],
      "source": [
        "from sklearn.gaussian_process.kernels import RBF, ConstantKernel as CK, Sum\n",
        "\n",
        "ker = Sum(\n",
        "    CK(0.1, (1e-3, 1e3)) * RBF(length_scale=10,\n",
        "                               length_scale_bounds=(1e-3, 1e3)),\n",
        "    CK(0.1, (1e-3, 1e3)) * RBF(length_scale=1,\n",
        "                               length_scale_bounds=(1e-3, 1e3))\n",
        ")\n",
        "\n",
        "ker"
      ]
    },
    {
      "cell_type": "code",
      "execution_count": 6,
      "metadata": {},
      "outputs": [
        {
          "data": {
            "text/plain": [
              "array([[2.00000000e-01, 4.88993040e-02, 4.25048140e-02, 5.94472678e-04,\n",
              "        4.36813578e-02, 7.54738292e-03, 4.79816083e-02, 2.44870899e-02,\n",
              "        6.11804858e-02, 5.91636643e-02],\n",
              "       [4.88993040e-02, 2.00000000e-01, 1.41439850e-01, 1.33559792e-02,\n",
              "        1.56539930e-01, 5.58967934e-02, 5.50622994e-03, 1.61259456e-03,\n",
              "        9.16550083e-03, 8.54623880e-03],\n",
              "       [4.25048140e-02, 1.41439850e-01, 2.00000000e-01, 1.66351088e-02,\n",
              "        1.95919797e-01, 6.23358040e-02, 4.18740453e-03, 1.16061688e-03,\n",
              "        7.11297248e-03, 6.59679571e-03],\n",
              "       [5.94472678e-04, 1.33559792e-02, 1.66351088e-02, 2.00000000e-01,\n",
              "        1.59911246e-02, 6.43812362e-02, 5.90141166e-06, 6.77520700e-07,\n",
              "        1.52525053e-05, 1.33384349e-05],\n",
              "       [4.36813578e-02, 1.56539930e-01, 1.95919797e-01, 1.59911246e-02,\n",
              "        2.00000000e-01, 6.11287461e-02, 4.41158561e-03, 1.23488073e-03,\n",
              "        7.46433076e-03, 6.92846776e-03],\n",
              "       [7.54738292e-03, 5.58967934e-02, 6.23358040e-02, 6.43812362e-02,\n",
              "        6.11287461e-02, 2.00000000e-01, 2.30531400e-04, 4.11226399e-05,\n",
              "        4.89214341e-04, 4.42318453e-04],\n",
              "       [4.79816083e-02, 5.50622994e-03, 4.18740453e-03, 5.90141166e-06,\n",
              "        4.41158561e-03, 2.30531400e-04, 2.00000000e-01, 8.95609518e-02,\n",
              "        1.03946894e-01, 1.06810568e-01],\n",
              "       [2.44870899e-02, 1.61259456e-03, 1.16061688e-03, 6.77520700e-07,\n",
              "        1.23488073e-03, 4.11226399e-05, 8.95609518e-02, 2.00000000e-01,\n",
              "        7.89686728e-02, 8.05577562e-02],\n",
              "       [6.11804858e-02, 9.16550083e-03, 7.11297248e-03, 1.52525053e-05,\n",
              "        7.46433076e-03, 4.89214341e-04, 1.03946894e-01, 7.89686728e-02,\n",
              "        2.00000000e-01, 1.89352355e-01],\n",
              "       [5.91636643e-02, 8.54623880e-03, 6.59679571e-03, 1.33384349e-05,\n",
              "        6.92846776e-03, 4.42318453e-04, 1.06810568e-01, 8.05577562e-02,\n",
              "        1.89352355e-01, 2.00000000e-01]])"
            ]
          },
          "execution_count": 7,
          "metadata": {},
          "output_type": "execute_result"
        }
      ],
      "source": [
        "ker(Xtest)"
      ]
    },
    {
      "cell_type": "markdown",
      "metadata": {},
      "source": [
        "## Conversion to ONNX\n",
        "\n",
        "The function is not an operator, the function to use is specific to this usage."
      ]
    },
    {
      "cell_type": "code",
      "execution_count": 7,
      "metadata": {},
      "outputs": [],
      "source": [
        "from skl2onnx.operator_converters.gaussian_process import convert_kernel\n",
        "from skl2onnx.common.data_types import FloatTensorType\n",
        "from skl2onnx.algebra.onnx_ops import OnnxIdentity\n",
        "onnx_op = convert_kernel({}, ker, 'X', output_names=['final_after_op_Add'])\n",
        "onnx_op = OnnxIdentity(onnx_op, output_names=['Y'])\n",
        "model_onnx = model_onnx = onnx_op.to_onnx(\n",
        "                inputs=[('X', FloatTensorType(['None', 'None']))])\n",
        "\n",
        "with open(\"model_onnx.onnx\", \"wb\") as f:\n",
        "    f.write(model_onnx.SerializeToString())"
      ]
    },
    {
      "cell_type": "markdown",
      "metadata": {},
      "source": [
        "``[('X', FloatTensorType(['None', 'None']))]`` means the function applies on every tensor whatever its dimension is."
      ]
    },
    {
      "cell_type": "code",
      "execution_count": 8,
      "metadata": {
        "scrolled": false
      },
      "outputs": [
        {
          "data": {
            "text/html": [
              "<div id=\"M91645a8ab3a945429cf80c56f807952f-cont\"><div id=\"M91645a8ab3a945429cf80c56f807952f\" style=\"width:100%;height:100%;\"></div></div>\n",
              "<script>\n",
              "\n",
              "require(['http://www.xavierdupre.fr/js/vizjs/viz.js'], function() { var svgGraph = Viz(\"digraph{\\n  ranksep=0.25;\\n  orientation=portrait;\\n  nodesep=0.05;\\n\\n  X [shape=box color=red label=\\\"X\\nfloat((0, 0))\\\" fontsize=10];\\n\\n  Y [shape=box color=green label=\\\"Y\\nfloat((0, 0))\\\" fontsize=10];\\n\\n  Addcst [shape=box label=\\\"Addcst\\nfloat32((1,))\\n[0.1]\\\" fontsize=10];\\n  Addcst1 [shape=box label=\\\"Addcst1\\nfloat32((1,))\\n[0.1]\\\" fontsize=10];\\n\\n  O05 [shape=box label=\\\"O05\\\" fontsize=10];\\n  Shape [shape=box style=\\\"filled,rounded\\\" color=orange label=\\\"Shape\\n(Shape)\\\" fontsize=10];\\n  X -> Shape;\\n  Shape -> O05;\\n\\n  O04 [shape=box label=\\\"O04\\\" fontsize=10];\\n  ConstantOfShape [shape=box style=\\\"filled,rounded\\\" color=orange label=\\\"ConstantOfShape\\n(ConstantOfShape)\\\" fontsize=10];\\n  O05 -> ConstantOfShape;\\n  ConstantOfShape -> O04;\\n\\n  O03 [shape=box label=\\\"O03\\\" fontsize=10];\\n  ReduceSum [shape=box style=\\\"filled,rounded\\\" color=orange label=\\\"ReduceSum\\n(ReduceSum)\\naxes=[1]\\\" fontsize=10];\\n  O04 -> ReduceSum;\\n  ReduceSum -> O03;\\n\\n  O06 [shape=box label=\\\"O06\\\" fontsize=10];\\n  Transpose [shape=box style=\\\"filled,rounded\\\" color=orange label=\\\"Transpose\\n(Transpose)\\nperm=[1 0]\\\" fontsize=10];\\n  O03 -> Transpose;\\n  Transpose -> O06;\\n\\n  O02 [shape=box label=\\\"O02\\\" fontsize=10];\\n  MatMul [shape=box style=\\\"filled,rounded\\\" color=orange label=\\\"MatMul\\n(MatMul)\\\" fontsize=10];\\n  O03 -> MatMul;\\n  O06 -> MatMul;\\n  MatMul -> O02;\\n\\n  O01 [shape=box label=\\\"O01\\\" fontsize=10];\\n  Add [shape=box style=\\\"filled,rounded\\\" color=orange label=\\\"Add\\n(Add)\\\" fontsize=10];\\n  O02 -> Add;\\n  Addcst -> Add;\\n  Add -> O01;\\n\\n  O015 [shape=box label=\\\"O015\\\" fontsize=10];\\n  Shape1 [shape=box style=\\\"filled,rounded\\\" color=orange label=\\\"Shape\\n(Shape1)\\\" fontsize=10];\\n  X -> Shape1;\\n  Shape1 -> O015;\\n\\n  O014 [shape=box label=\\\"O014\\\" fontsize=10];\\n  ConstantOfShape1 [shape=box style=\\\"filled,rounded\\\" color=orange label=\\\"ConstantOfShape\\n(ConstantOfShape1)\\\" fontsize=10];\\n  O015 -> ConstantOfShape1;\\n  ConstantOfShape1 -> O014;\\n\\n  O013 [shape=box label=\\\"O013\\\" fontsize=10];\\n  ReduceSum1 [shape=box style=\\\"filled,rounded\\\" color=orange label=\\\"ReduceSum\\n(ReduceSum1)\\naxes=[0]\\\" fontsize=10];\\n  O014 -> ReduceSum1;\\n  ReduceSum1 -> O013;\\n\\n  O012 [shape=box label=\\\"O012\\\" fontsize=10];\\n  Shape2 [shape=box style=\\\"filled,rounded\\\" color=orange label=\\\"Shape\\n(Shape2)\\\" fontsize=10];\\n  O013 -> Shape2;\\n  Shape2 -> O012;\\n\\n  O011 [shape=box label=\\\"O011\\\" fontsize=10];\\n  ConstantOfShape2 [shape=box style=\\\"filled,rounded\\\" color=orange label=\\\"ConstantOfShape\\n(ConstantOfShape2)\\nvalue=[10.]\\\" fontsize=10];\\n  O012 -> ConstantOfShape2;\\n  ConstantOfShape2 -> O011;\\n\\n  O010 [shape=box label=\\\"O010\\\" fontsize=10];\\n  Squeeze [shape=box style=\\\"filled,rounded\\\" color=orange label=\\\"Squeeze\\n(Squeeze)\\naxes=[0]\\\" fontsize=10];\\n  O011 -> Squeeze;\\n  Squeeze -> O010;\\n\\n  O09 [shape=box label=\\\"O09\\\" fontsize=10];\\n  Div [shape=box style=\\\"filled,rounded\\\" color=orange label=\\\"Div\\n(Div)\\\" fontsize=10];\\n  X -> Div;\\n  O010 -> Div;\\n  Div -> O09;\\n\\n  scan0_3100996038896 [shape=box label=\\\"scan0_3100996038896\\\" fontsize=10];\\n  scan1_3100996038896 [shape=box label=\\\"scan1_3100996038896\\\" fontsize=10];\\n  Scan [shape=box style=\\\"filled,rounded\\\" color=orange label=\\\"Scan\\n(Scan)\\nbody=node {\\n  input: 'next_in'...\\nnum_scan_inputs=1\\\" fontsize=10];\\n  O09 -> Scan;\\n  O09 -> Scan;\\n  Scan -> scan0_3100996038896;\\n  Scan -> scan1_3100996038896;\\n\\n  O018 [shape=box label=\\\"O018\\\" fontsize=10];\\n  Shape3 [shape=box style=\\\"filled,rounded\\\" color=orange label=\\\"Shape\\n(Shape3)\\\" fontsize=10];\\n  O03 -> Shape3;\\n  Shape3 -> O018;\\n\\n  O017 [shape=box label=\\\"O017\\\" fontsize=10];\\n  ConstantOfShape3 [shape=box style=\\\"filled,rounded\\\" color=orange label=\\\"ConstantOfShape\\n(ConstantOfShape3)\\nvalue=[-0.5]\\\" fontsize=10];\\n  O018 -> ConstantOfShape3;\\n  ConstantOfShape3 -> O017;\\n\\n  O016 [shape=box label=\\\"O016\\\" fontsize=10];\\n  Squeeze1 [shape=box style=\\\"filled,rounded\\\" color=orange label=\\\"Squeeze\\n(Squeeze1)\\naxes=[1]\\\" fontsize=10];\\n  O017 -> Squeeze1;\\n  Squeeze1 -> O016;\\n\\n  O08 [shape=box label=\\\"O08\\\" fontsize=10];\\n  Mul [shape=box style=\\\"filled,rounded\\\" color=orange label=\\\"Mul\\n(Mul)\\\" fontsize=10];\\n  scan1_3100996038896 -> Mul;\\n  O016 -> Mul;\\n  Mul -> O08;\\n\\n  O07 [shape=box label=\\\"O07\\\" fontsize=10];\\n  Exp [shape=box style=\\\"filled,rounded\\\" color=orange label=\\\"Exp\\n(Exp)\\\" fontsize=10];\\n  O08 -> Exp;\\n  Exp -> O07;\\n\\n  O0 [shape=box label=\\\"O0\\\" fontsize=10];\\n  Mul1 [shape=box style=\\\"filled,rounded\\\" color=orange label=\\\"Mul\\n(Mul1)\\\" fontsize=10];\\n  O01 -> Mul1;\\n  O07 -> Mul1;\\n  Mul1 -> O0;\\n\\n  O022 [shape=box label=\\\"O022\\\" fontsize=10];\\n  Transpose1 [shape=box style=\\\"filled,rounded\\\" color=orange label=\\\"Transpose\\n(Transpose1)\\nperm=[1 0]\\\" fontsize=10];\\n  O03 -> Transpose1;\\n  Transpose1 -> O022;\\n\\n  O021 [shape=box label=\\\"O021\\\" fontsize=10];\\n  MatMul1 [shape=box style=\\\"filled,rounded\\\" color=orange label=\\\"MatMul\\n(MatMul1)\\\" fontsize=10];\\n  O03 -> MatMul1;\\n  O022 -> MatMul1;\\n  MatMul1 -> O021;\\n\\n  O020 [shape=box label=\\\"O020\\\" fontsize=10];\\n  Add1 [shape=box style=\\\"filled,rounded\\\" color=orange label=\\\"Add\\n(Add1)\\\" fontsize=10];\\n  O021 -> Add1;\\n  Addcst1 -> Add1;\\n  Add1 -> O020;\\n\\n  O028 [shape=box label=\\\"O028\\\" fontsize=10];\\n  Shape4 [shape=box style=\\\"filled,rounded\\\" color=orange label=\\\"Shape\\n(Shape4)\\\" fontsize=10];\\n  O013 -> Shape4;\\n  Shape4 -> O028;\\n\\n  O027 [shape=box label=\\\"O027\\\" fontsize=10];\\n  ConstantOfShape4 [shape=box style=\\\"filled,rounded\\\" color=orange label=\\\"ConstantOfShape\\n(ConstantOfShape4)\\nvalue=[1.]\\\" fontsize=10];\\n  O028 -> ConstantOfShape4;\\n  ConstantOfShape4 -> O027;\\n\\n  O026 [shape=box label=\\\"O026\\\" fontsize=10];\\n  Squeeze2 [shape=box style=\\\"filled,rounded\\\" color=orange label=\\\"Squeeze\\n(Squeeze2)\\naxes=[0]\\\" fontsize=10];\\n  O027 -> Squeeze2;\\n  Squeeze2 -> O026;\\n\\n  O025 [shape=box label=\\\"O025\\\" fontsize=10];\\n  Div1 [shape=box style=\\\"filled,rounded\\\" color=orange label=\\\"Div\\n(Div1)\\\" fontsize=10];\\n  X -> Div1;\\n  O026 -> Div1;\\n  Div1 -> O025;\\n\\n  scan0_3100996786104 [shape=box label=\\\"scan0_3100996786104\\\" fontsize=10];\\n  scan1_3100996786104 [shape=box label=\\\"scan1_3100996786104\\\" fontsize=10];\\n  Scan1 [shape=box style=\\\"filled,rounded\\\" color=orange label=\\\"Scan\\n(Scan1)\\nbody=node {\\n  input: 'next_in'...\\nnum_scan_inputs=1\\\" fontsize=10];\\n  O025 -> Scan1;\\n  O025 -> Scan1;\\n  Scan1 -> scan0_3100996786104;\\n  Scan1 -> scan1_3100996786104;\\n\\n  O024 [shape=box label=\\\"O024\\\" fontsize=10];\\n  Mul2 [shape=box style=\\\"filled,rounded\\\" color=orange label=\\\"Mul\\n(Mul2)\\\" fontsize=10];\\n  scan1_3100996786104 -> Mul2;\\n  O016 -> Mul2;\\n  Mul2 -> O024;\\n\\n  O023 [shape=box label=\\\"O023\\\" fontsize=10];\\n  Exp1 [shape=box style=\\\"filled,rounded\\\" color=orange label=\\\"Exp\\n(Exp1)\\\" fontsize=10];\\n  O024 -> Exp1;\\n  Exp1 -> O023;\\n\\n  O019 [shape=box label=\\\"O019\\\" fontsize=10];\\n  Mul3 [shape=box style=\\\"filled,rounded\\\" color=orange label=\\\"Mul\\n(Mul3)\\\" fontsize=10];\\n  O020 -> Mul3;\\n  O023 -> Mul3;\\n  Mul3 -> O019;\\n\\n  final_after_op_Add [shape=box label=\\\"final_after_op_Add\\\" fontsize=10];\\n  Add2 [shape=box style=\\\"filled,rounded\\\" color=orange label=\\\"Add\\n(Add2)\\\" fontsize=10];\\n  O0 -> Add2;\\n  O019 -> Add2;\\n  Add2 -> final_after_op_Add;\\n\\n  Identity [shape=box style=\\\"filled,rounded\\\" color=orange label=\\\"Identity\\n(Identity)\\\" fontsize=10];\\n  final_after_op_Add -> Identity;\\n  Identity -> Y;\\n}\");\n",
              "document.getElementById('M91645a8ab3a945429cf80c56f807952f').innerHTML = svgGraph; });\n",
              "\n",
              "</script>"
            ],
            "text/plain": [
              "<jyquickhelper.jspy.render_nb_js_dot.RenderJsDot at 0x2d203a29a90>"
            ]
          },
          "execution_count": 9,
          "metadata": {},
          "output_type": "execute_result"
        }
      ],
      "source": [
        "%onnxview model_onnx"
      ]
    },
    {
      "cell_type": "code",
      "execution_count": 9,
      "metadata": {},
      "outputs": [],
      "source": [
        "from mlprodict.onnxrt import OnnxInference\n",
        "pyrun = OnnxInference(model_onnx)\n",
        "rtrun = OnnxInference(model_onnx, runtime=\"onnxruntime1\")"
      ]
    },
    {
      "cell_type": "code",
      "execution_count": 10,
      "metadata": {},
      "outputs": [
        {
          "data": {
            "text/plain": [
              "{'Y': array([[2.00000003e-01, 4.88993048e-02, 4.25048146e-02, 5.94472687e-04,\n",
              "         4.36813584e-02, 7.54738303e-03, 4.79816091e-02, 2.44870902e-02,\n",
              "         6.11804867e-02, 5.91636651e-02],\n",
              "        [4.88993048e-02, 2.00000003e-01, 1.41439852e-01, 1.33559794e-02,\n",
              "         1.56539932e-01, 5.58967942e-02, 5.50623002e-03, 1.61259458e-03,\n",
              "         9.16550097e-03, 8.54623893e-03],\n",
              "        [4.25048146e-02, 1.41439852e-01, 2.00000003e-01, 1.66351091e-02,\n",
              "         1.95919800e-01, 6.23358049e-02, 4.18740459e-03, 1.16061689e-03,\n",
              "         7.11297259e-03, 6.59679581e-03],\n",
              "        [5.94472687e-04, 1.33559794e-02, 1.66351091e-02, 2.00000003e-01,\n",
              "         1.59911249e-02, 6.43812372e-02, 5.90141174e-06, 6.77520710e-07,\n",
              "         1.52525055e-05, 1.33384351e-05],\n",
              "        [4.36813584e-02, 1.56539932e-01, 1.95919800e-01, 1.59911249e-02,\n",
              "         2.00000003e-01, 6.11287471e-02, 4.41158568e-03, 1.23488075e-03,\n",
              "         7.46433087e-03, 6.92846787e-03],\n",
              "        [7.54738303e-03, 5.58967942e-02, 6.23358049e-02, 6.43812372e-02,\n",
              "         6.11287471e-02, 2.00000003e-01, 2.30531403e-04, 4.11226405e-05,\n",
              "         4.89214349e-04, 4.42318460e-04],\n",
              "        [4.79816091e-02, 5.50623002e-03, 4.18740459e-03, 5.90141174e-06,\n",
              "         4.41158568e-03, 2.30531403e-04, 2.00000003e-01, 8.95609532e-02,\n",
              "         1.03946896e-01, 1.06810570e-01],\n",
              "        [2.44870902e-02, 1.61259458e-03, 1.16061689e-03, 6.77520710e-07,\n",
              "         1.23488075e-03, 4.11226405e-05, 8.95609532e-02, 2.00000003e-01,\n",
              "         7.89686740e-02, 8.05577574e-02],\n",
              "        [6.11804867e-02, 9.16550097e-03, 7.11297259e-03, 1.52525055e-05,\n",
              "         7.46433087e-03, 4.89214349e-04, 1.03946896e-01, 7.89686740e-02,\n",
              "         2.00000003e-01, 1.89352358e-01],\n",
              "        [5.91636651e-02, 8.54623893e-03, 6.59679581e-03, 1.33384351e-05,\n",
              "         6.92846787e-03, 4.42318460e-04, 1.06810570e-01, 8.05577574e-02,\n",
              "         1.89352358e-01, 2.00000003e-01]])}"
            ]
          },
          "execution_count": 11,
          "metadata": {},
          "output_type": "execute_result"
        }
      ],
      "source": [
        "pyres = pyrun.run({'X': Xtest})\n",
        "pyres"
      ]
    },
    {
      "cell_type": "code",
      "execution_count": 11,
      "metadata": {},
      "outputs": [
        {
          "data": {
            "text/plain": [
              "{'Y': array([[2.00000003e-01, 4.88993339e-02, 4.25047949e-02, 5.94472338e-04,\n",
              "         4.36813496e-02, 7.54737947e-03, 4.79816124e-02, 2.44870633e-02,\n",
              "         6.11804537e-02, 5.91636561e-02],\n",
              "        [4.88993339e-02, 2.00000003e-01, 1.41439855e-01, 1.33559629e-02,\n",
              "         1.56540006e-01, 5.58967553e-02, 5.50623611e-03, 1.61259342e-03,\n",
              "         9.16550029e-03, 8.54624342e-03],\n",
              "        [4.25047949e-02, 1.41439855e-01, 2.00000003e-01, 1.66351162e-02,\n",
              "         1.95919767e-01, 6.23358004e-02, 4.18740092e-03, 1.16061396e-03,\n",
              "         7.11296080e-03, 6.59678876e-03],\n",
              "        [5.94472338e-04, 1.33559629e-02, 1.66351162e-02, 2.00000003e-01,\n",
              "         1.59911271e-02, 6.43812492e-02, 5.90140644e-06, 6.77518699e-07,\n",
              "         1.52524681e-05, 1.33384119e-05],\n",
              "        [4.36813496e-02, 1.56540006e-01, 1.95919767e-01, 1.59911271e-02,\n",
              "         2.00000003e-01, 6.11287355e-02, 4.41158330e-03, 1.23487751e-03,\n",
              "         7.46431900e-03, 6.92846393e-03],\n",
              "        [7.54737947e-03, 5.58967553e-02, 6.23358004e-02, 6.43812492e-02,\n",
              "         6.11287355e-02, 2.00000003e-01, 2.30531194e-04, 4.11224828e-05,\n",
              "         4.89213213e-04, 4.42317745e-04],\n",
              "        [4.79816124e-02, 5.50623611e-03, 4.18740092e-03, 5.90140644e-06,\n",
              "         6.73794711e-04, 4.95980028e-04, 1.92903429e-01, 9.98863354e-02,\n",
              "         1.06398046e-01, 1.07753962e-01],\n",
              "        [2.44870633e-02, 1.61259342e-03, 1.16061396e-03, 6.77518699e-07,\n",
              "         1.23487751e-03, 4.11224828e-05, 8.95609260e-02, 2.00000003e-01,\n",
              "         7.89686665e-02, 8.05577263e-02],\n",
              "        [9.99325365e-02, 9.95305926e-02, 6.73794711e-04, 2.45846761e-03,\n",
              "         9.16323215e-02, 9.99220461e-02, 1.06413491e-01, 9.88934264e-02,\n",
              "         1.00673795e-01, 9.04074162e-02],\n",
              "        [5.91636561e-02, 0.00000000e+00, 0.00000000e+00, 1.33384119e-05,\n",
              "         6.92846254e-03, 4.42317745e-04, 1.06810644e-01, 8.05577263e-02,\n",
              "         1.89352334e-01, 2.00000003e-01]], dtype=float32)}"
            ]
          },
          "execution_count": 12,
          "metadata": {},
          "output_type": "execute_result"
        }
      ],
      "source": [
        "rtres = rtrun.run({'X': Xtest.astype(numpy.float32)})\n",
        "rtres"
      ]
    },
    {
      "cell_type": "code",
      "execution_count": 12,
      "metadata": {},
      "outputs": [
        {
          "data": {
            "text/plain": [
              "0.09943283171656615"
            ]
          },
          "execution_count": 13,
          "metadata": {},
          "output_type": "execute_result"
        }
      ],
      "source": [
        "from mlprodict.onnxrt.validate_difference import measure_absolute_difference\n",
        "measure_absolute_difference(pyres['Y'], rtres['Y'])"
      ]
    },
    {
      "cell_type": "markdown",
      "metadata": {},
      "source": [
        "The last runtime uses [onnxruntime](https://github.com/microsoft/onnxruntime) to run every node independently from each others."
      ]
    },
    {
      "cell_type": "code",
      "execution_count": 13,
      "metadata": {},
      "outputs": [
        {
          "data": {
            "text/plain": [
              "0.09943283171656615"
            ]
          },
          "execution_count": 14,
          "metadata": {},
          "output_type": "execute_result"
        }
      ],
      "source": [
        "rt_partial_run = OnnxInference(model_onnx, runtime=\"onnxruntime1\")\n",
        "rt_partial_res = rt_partial_run.run({'X': Xtest.astype(numpy.float32)})\n",
        "measure_absolute_difference(pyres['Y'], rt_partial_res['Y'])"
      ]
    },
    {
      "cell_type": "markdown",
      "metadata": {},
      "source": [
        "## Side by side\n",
        "\n",
        "We run every node independently and we compare the output at each step."
      ]
    },
    {
      "cell_type": "code",
      "execution_count": 14,
      "metadata": {},
      "outputs": [],
      "source": [
        "%matplotlib inline"
      ]
    },
    {
      "cell_type": "code",
      "execution_count": 15,
      "metadata": {},
      "outputs": [
        {
          "data": {
            "text/html": [
              "<div>\n",
              "<style scoped>\n",
              "    .dataframe tbody tr th:only-of-type {\n",
              "        vertical-align: middle;\n",
              "    }\n",
              "\n",
              "    .dataframe tbody tr th {\n",
              "        vertical-align: top;\n",
              "    }\n",
              "\n",
              "    .dataframe thead th {\n",
              "        text-align: right;\n",
              "    }\n",
              "</style>\n",
              "<table border=\"1\" class=\"dataframe\">\n",
              "  <thead>\n",
              "    <tr style=\"text-align: right;\">\n",
              "      <th></th>\n",
              "      <th>cmp</th>\n",
              "      <th>metric</th>\n",
              "      <th>name</th>\n",
              "      <th>shape[0]</th>\n",
              "      <th>shape[1]</th>\n",
              "      <th>shape[2]</th>\n",
              "      <th>step</th>\n",
              "      <th>v[0]</th>\n",
              "      <th>v[1]</th>\n",
              "      <th>v[2]</th>\n",
              "    </tr>\n",
              "  </thead>\n",
              "  <tbody>\n",
              "    <tr>\n",
              "      <th>0</th>\n",
              "      <td>OK</td>\n",
              "      <td>nb_results</td>\n",
              "      <td>NaN</td>\n",
              "      <td>NaN</td>\n",
              "      <td>NaN</td>\n",
              "      <td>NaN</td>\n",
              "      <td>-1</td>\n",
              "      <td>38</td>\n",
              "      <td>3.800000e+01</td>\n",
              "      <td>3.800000e+01</td>\n",
              "    </tr>\n",
              "    <tr>\n",
              "      <th>1</th>\n",
              "      <td>OK</td>\n",
              "      <td>abs-diff</td>\n",
              "      <td>X</td>\n",
              "      <td>(10, 6)</td>\n",
              "      <td>(10, 6)</td>\n",
              "      <td>(10, 6)</td>\n",
              "      <td>0</td>\n",
              "      <td>0</td>\n",
              "      <td>0.000000e+00</td>\n",
              "      <td>0.000000e+00</td>\n",
              "    </tr>\n",
              "    <tr>\n",
              "      <th>2</th>\n",
              "      <td>OK</td>\n",
              "      <td>abs-diff</td>\n",
              "      <td>Addcst</td>\n",
              "      <td>(1,)</td>\n",
              "      <td>(1,)</td>\n",
              "      <td>(1,)</td>\n",
              "      <td>1</td>\n",
              "      <td>0</td>\n",
              "      <td>0.000000e+00</td>\n",
              "      <td>0.000000e+00</td>\n",
              "    </tr>\n",
              "    <tr>\n",
              "      <th>3</th>\n",
              "      <td>OK</td>\n",
              "      <td>abs-diff</td>\n",
              "      <td>Addcst1</td>\n",
              "      <td>(1,)</td>\n",
              "      <td>(1,)</td>\n",
              "      <td>(1,)</td>\n",
              "      <td>2</td>\n",
              "      <td>0</td>\n",
              "      <td>0.000000e+00</td>\n",
              "      <td>0.000000e+00</td>\n",
              "    </tr>\n",
              "    <tr>\n",
              "      <th>4</th>\n",
              "      <td>OK</td>\n",
              "      <td>abs-diff</td>\n",
              "      <td>O05</td>\n",
              "      <td>(2,)</td>\n",
              "      <td>(2,)</td>\n",
              "      <td>(2,)</td>\n",
              "      <td>3</td>\n",
              "      <td>0</td>\n",
              "      <td>0.000000e+00</td>\n",
              "      <td>0.000000e+00</td>\n",
              "    </tr>\n",
              "    <tr>\n",
              "      <th>5</th>\n",
              "      <td>OK</td>\n",
              "      <td>abs-diff</td>\n",
              "      <td>O04</td>\n",
              "      <td>(10, 6)</td>\n",
              "      <td>(10, 6)</td>\n",
              "      <td>(10, 6)</td>\n",
              "      <td>4</td>\n",
              "      <td>0</td>\n",
              "      <td>0.000000e+00</td>\n",
              "      <td>0.000000e+00</td>\n",
              "    </tr>\n",
              "    <tr>\n",
              "      <th>6</th>\n",
              "      <td>OK</td>\n",
              "      <td>abs-diff</td>\n",
              "      <td>O03</td>\n",
              "      <td>(10, 1)</td>\n",
              "      <td>(10, 1)</td>\n",
              "      <td>(10, 1)</td>\n",
              "      <td>5</td>\n",
              "      <td>0</td>\n",
              "      <td>0.000000e+00</td>\n",
              "      <td>0.000000e+00</td>\n",
              "    </tr>\n",
              "    <tr>\n",
              "      <th>7</th>\n",
              "      <td>OK</td>\n",
              "      <td>abs-diff</td>\n",
              "      <td>O06</td>\n",
              "      <td>(1, 10)</td>\n",
              "      <td>(1, 10)</td>\n",
              "      <td>(1, 10)</td>\n",
              "      <td>6</td>\n",
              "      <td>0</td>\n",
              "      <td>0.000000e+00</td>\n",
              "      <td>0.000000e+00</td>\n",
              "    </tr>\n",
              "    <tr>\n",
              "      <th>8</th>\n",
              "      <td>OK</td>\n",
              "      <td>abs-diff</td>\n",
              "      <td>O02</td>\n",
              "      <td>(10, 10)</td>\n",
              "      <td>(10, 10)</td>\n",
              "      <td>(10, 10)</td>\n",
              "      <td>7</td>\n",
              "      <td>0</td>\n",
              "      <td>0.000000e+00</td>\n",
              "      <td>0.000000e+00</td>\n",
              "    </tr>\n",
              "    <tr>\n",
              "      <th>9</th>\n",
              "      <td>OK</td>\n",
              "      <td>abs-diff</td>\n",
              "      <td>O01</td>\n",
              "      <td>(10, 10)</td>\n",
              "      <td>(10, 10)</td>\n",
              "      <td>(10, 10)</td>\n",
              "      <td>8</td>\n",
              "      <td>0</td>\n",
              "      <td>0.000000e+00</td>\n",
              "      <td>0.000000e+00</td>\n",
              "    </tr>\n",
              "    <tr>\n",
              "      <th>10</th>\n",
              "      <td>OK</td>\n",
              "      <td>abs-diff</td>\n",
              "      <td>O015</td>\n",
              "      <td>(2,)</td>\n",
              "      <td>(2,)</td>\n",
              "      <td>(2,)</td>\n",
              "      <td>9</td>\n",
              "      <td>0</td>\n",
              "      <td>0.000000e+00</td>\n",
              "      <td>0.000000e+00</td>\n",
              "    </tr>\n",
              "    <tr>\n",
              "      <th>11</th>\n",
              "      <td>OK</td>\n",
              "      <td>abs-diff</td>\n",
              "      <td>O014</td>\n",
              "      <td>(10, 6)</td>\n",
              "      <td>(10, 6)</td>\n",
              "      <td>(10, 6)</td>\n",
              "      <td>10</td>\n",
              "      <td>0</td>\n",
              "      <td>0.000000e+00</td>\n",
              "      <td>0.000000e+00</td>\n",
              "    </tr>\n",
              "    <tr>\n",
              "      <th>12</th>\n",
              "      <td>OK</td>\n",
              "      <td>abs-diff</td>\n",
              "      <td>O013</td>\n",
              "      <td>(1, 6)</td>\n",
              "      <td>(1, 6)</td>\n",
              "      <td>(1, 6)</td>\n",
              "      <td>11</td>\n",
              "      <td>0</td>\n",
              "      <td>0.000000e+00</td>\n",
              "      <td>0.000000e+00</td>\n",
              "    </tr>\n",
              "    <tr>\n",
              "      <th>13</th>\n",
              "      <td>OK</td>\n",
              "      <td>abs-diff</td>\n",
              "      <td>O012</td>\n",
              "      <td>(2,)</td>\n",
              "      <td>(2,)</td>\n",
              "      <td>(2,)</td>\n",
              "      <td>12</td>\n",
              "      <td>0</td>\n",
              "      <td>0.000000e+00</td>\n",
              "      <td>0.000000e+00</td>\n",
              "    </tr>\n",
              "    <tr>\n",
              "      <th>14</th>\n",
              "      <td>OK</td>\n",
              "      <td>abs-diff</td>\n",
              "      <td>O011</td>\n",
              "      <td>(1, 6)</td>\n",
              "      <td>(1, 6)</td>\n",
              "      <td>(1, 6)</td>\n",
              "      <td>13</td>\n",
              "      <td>0</td>\n",
              "      <td>0.000000e+00</td>\n",
              "      <td>0.000000e+00</td>\n",
              "    </tr>\n",
              "    <tr>\n",
              "      <th>15</th>\n",
              "      <td>OK</td>\n",
              "      <td>abs-diff</td>\n",
              "      <td>O010</td>\n",
              "      <td>(6,)</td>\n",
              "      <td>(6,)</td>\n",
              "      <td>(6,)</td>\n",
              "      <td>14</td>\n",
              "      <td>0</td>\n",
              "      <td>0.000000e+00</td>\n",
              "      <td>0.000000e+00</td>\n",
              "    </tr>\n",
              "    <tr>\n",
              "      <th>16</th>\n",
              "      <td>OK</td>\n",
              "      <td>abs-diff</td>\n",
              "      <td>O09</td>\n",
              "      <td>(10, 6)</td>\n",
              "      <td>(10, 6)</td>\n",
              "      <td>(10, 6)</td>\n",
              "      <td>15</td>\n",
              "      <td>0</td>\n",
              "      <td>0.000000e+00</td>\n",
              "      <td>0.000000e+00</td>\n",
              "    </tr>\n",
              "    <tr>\n",
              "      <th>17</th>\n",
              "      <td>OK</td>\n",
              "      <td>abs-diff</td>\n",
              "      <td>scan0_3100996038896</td>\n",
              "      <td>(10, 6)</td>\n",
              "      <td>(10, 6)</td>\n",
              "      <td>(10, 6)</td>\n",
              "      <td>16</td>\n",
              "      <td>0</td>\n",
              "      <td>0.000000e+00</td>\n",
              "      <td>0.000000e+00</td>\n",
              "    </tr>\n",
              "    <tr>\n",
              "      <th>18</th>\n",
              "      <td>OK</td>\n",
              "      <td>abs-diff</td>\n",
              "      <td>scan1_3100996038896</td>\n",
              "      <td>(10, 10)</td>\n",
              "      <td>(10, 10)</td>\n",
              "      <td>(10, 10)</td>\n",
              "      <td>17</td>\n",
              "      <td>0</td>\n",
              "      <td>4.768372e-07</td>\n",
              "      <td>4.768372e-07</td>\n",
              "    </tr>\n",
              "    <tr>\n",
              "      <th>19</th>\n",
              "      <td>OK</td>\n",
              "      <td>abs-diff</td>\n",
              "      <td>O018</td>\n",
              "      <td>(2,)</td>\n",
              "      <td>(2,)</td>\n",
              "      <td>(2,)</td>\n",
              "      <td>18</td>\n",
              "      <td>0</td>\n",
              "      <td>0.000000e+00</td>\n",
              "      <td>0.000000e+00</td>\n",
              "    </tr>\n",
              "    <tr>\n",
              "      <th>20</th>\n",
              "      <td>OK</td>\n",
              "      <td>abs-diff</td>\n",
              "      <td>O017</td>\n",
              "      <td>(10, 1)</td>\n",
              "      <td>(10, 1)</td>\n",
              "      <td>(10, 1)</td>\n",
              "      <td>19</td>\n",
              "      <td>0</td>\n",
              "      <td>0.000000e+00</td>\n",
              "      <td>0.000000e+00</td>\n",
              "    </tr>\n",
              "    <tr>\n",
              "      <th>21</th>\n",
              "      <td>OK</td>\n",
              "      <td>abs-diff</td>\n",
              "      <td>O016</td>\n",
              "      <td>(10,)</td>\n",
              "      <td>(10,)</td>\n",
              "      <td>(10,)</td>\n",
              "      <td>20</td>\n",
              "      <td>0</td>\n",
              "      <td>0.000000e+00</td>\n",
              "      <td>0.000000e+00</td>\n",
              "    </tr>\n",
              "    <tr>\n",
              "      <th>22</th>\n",
              "      <td>OK</td>\n",
              "      <td>abs-diff</td>\n",
              "      <td>O08</td>\n",
              "      <td>(10, 10)</td>\n",
              "      <td>(10, 10)</td>\n",
              "      <td>(10, 10)</td>\n",
              "      <td>21</td>\n",
              "      <td>0</td>\n",
              "      <td>2.384186e-07</td>\n",
              "      <td>2.384186e-07</td>\n",
              "    </tr>\n",
              "    <tr>\n",
              "      <th>23</th>\n",
              "      <td>OK</td>\n",
              "      <td>abs-diff</td>\n",
              "      <td>O07</td>\n",
              "      <td>(10, 10)</td>\n",
              "      <td>(10, 10)</td>\n",
              "      <td>(10, 10)</td>\n",
              "      <td>22</td>\n",
              "      <td>0</td>\n",
              "      <td>5.960464e-08</td>\n",
              "      <td>5.960464e-08</td>\n",
              "    </tr>\n",
              "    <tr>\n",
              "      <th>24</th>\n",
              "      <td>OK</td>\n",
              "      <td>abs-diff</td>\n",
              "      <td>O0</td>\n",
              "      <td>(10, 10)</td>\n",
              "      <td>(10, 10)</td>\n",
              "      <td>(10, 10)</td>\n",
              "      <td>23</td>\n",
              "      <td>0</td>\n",
              "      <td>7.450581e-09</td>\n",
              "      <td>7.450581e-09</td>\n",
              "    </tr>\n",
              "    <tr>\n",
              "      <th>25</th>\n",
              "      <td>OK</td>\n",
              "      <td>abs-diff</td>\n",
              "      <td>O022</td>\n",
              "      <td>(1, 10)</td>\n",
              "      <td>(1, 10)</td>\n",
              "      <td>(1, 10)</td>\n",
              "      <td>24</td>\n",
              "      <td>0</td>\n",
              "      <td>0.000000e+00</td>\n",
              "      <td>0.000000e+00</td>\n",
              "    </tr>\n",
              "    <tr>\n",
              "      <th>26</th>\n",
              "      <td>OK</td>\n",
              "      <td>abs-diff</td>\n",
              "      <td>O021</td>\n",
              "      <td>(10, 10)</td>\n",
              "      <td>(10, 10)</td>\n",
              "      <td>(10, 10)</td>\n",
              "      <td>25</td>\n",
              "      <td>0</td>\n",
              "      <td>0.000000e+00</td>\n",
              "      <td>0.000000e+00</td>\n",
              "    </tr>\n",
              "    <tr>\n",
              "      <th>27</th>\n",
              "      <td>OK</td>\n",
              "      <td>abs-diff</td>\n",
              "      <td>O020</td>\n",
              "      <td>(10, 10)</td>\n",
              "      <td>(10, 10)</td>\n",
              "      <td>(10, 10)</td>\n",
              "      <td>26</td>\n",
              "      <td>0</td>\n",
              "      <td>0.000000e+00</td>\n",
              "      <td>0.000000e+00</td>\n",
              "    </tr>\n",
              "    <tr>\n",
              "      <th>28</th>\n",
              "      <td>OK</td>\n",
              "      <td>abs-diff</td>\n",
              "      <td>O028</td>\n",
              "      <td>(2,)</td>\n",
              "      <td>(2,)</td>\n",
              "      <td>(2,)</td>\n",
              "      <td>27</td>\n",
              "      <td>0</td>\n",
              "      <td>0.000000e+00</td>\n",
              "      <td>0.000000e+00</td>\n",
              "    </tr>\n",
              "    <tr>\n",
              "      <th>29</th>\n",
              "      <td>OK</td>\n",
              "      <td>abs-diff</td>\n",
              "      <td>O027</td>\n",
              "      <td>(1, 6)</td>\n",
              "      <td>(1, 6)</td>\n",
              "      <td>(1, 6)</td>\n",
              "      <td>28</td>\n",
              "      <td>0</td>\n",
              "      <td>0.000000e+00</td>\n",
              "      <td>0.000000e+00</td>\n",
              "    </tr>\n",
              "    <tr>\n",
              "      <th>30</th>\n",
              "      <td>OK</td>\n",
              "      <td>abs-diff</td>\n",
              "      <td>O026</td>\n",
              "      <td>(6,)</td>\n",
              "      <td>(6,)</td>\n",
              "      <td>(6,)</td>\n",
              "      <td>29</td>\n",
              "      <td>0</td>\n",
              "      <td>0.000000e+00</td>\n",
              "      <td>0.000000e+00</td>\n",
              "    </tr>\n",
              "    <tr>\n",
              "      <th>31</th>\n",
              "      <td>OK</td>\n",
              "      <td>abs-diff</td>\n",
              "      <td>O025</td>\n",
              "      <td>(10, 6)</td>\n",
              "      <td>(10, 6)</td>\n",
              "      <td>(10, 6)</td>\n",
              "      <td>30</td>\n",
              "      <td>0</td>\n",
              "      <td>0.000000e+00</td>\n",
              "      <td>0.000000e+00</td>\n",
              "    </tr>\n",
              "    <tr>\n",
              "      <th>32</th>\n",
              "      <td>OK</td>\n",
              "      <td>abs-diff</td>\n",
              "      <td>scan0_3100996786104</td>\n",
              "      <td>(10, 6)</td>\n",
              "      <td>(10, 6)</td>\n",
              "      <td>(10, 6)</td>\n",
              "      <td>31</td>\n",
              "      <td>0</td>\n",
              "      <td>0.000000e+00</td>\n",
              "      <td>0.000000e+00</td>\n",
              "    </tr>\n",
              "    <tr>\n",
              "      <th>33</th>\n",
              "      <td>e&lt;0.001</td>\n",
              "      <td>abs-diff</td>\n",
              "      <td>scan1_3100996786104</td>\n",
              "      <td>(10, 10)</td>\n",
              "      <td>(10, 10)</td>\n",
              "      <td>(10, 10)</td>\n",
              "      <td>32</td>\n",
              "      <td>0</td>\n",
              "      <td>1.220703e-04</td>\n",
              "      <td>1.220703e-04</td>\n",
              "    </tr>\n",
              "    <tr>\n",
              "      <th>34</th>\n",
              "      <td>e&lt;0.0001</td>\n",
              "      <td>abs-diff</td>\n",
              "      <td>O024</td>\n",
              "      <td>(10, 10)</td>\n",
              "      <td>(10, 10)</td>\n",
              "      <td>(10, 10)</td>\n",
              "      <td>33</td>\n",
              "      <td>0</td>\n",
              "      <td>6.103516e-05</td>\n",
              "      <td>6.103516e-05</td>\n",
              "    </tr>\n",
              "    <tr>\n",
              "      <th>35</th>\n",
              "      <td>OK</td>\n",
              "      <td>abs-diff</td>\n",
              "      <td>O023</td>\n",
              "      <td>(10, 10)</td>\n",
              "      <td>(10, 10)</td>\n",
              "      <td>(10, 10)</td>\n",
              "      <td>34</td>\n",
              "      <td>0</td>\n",
              "      <td>7.450581e-09</td>\n",
              "      <td>7.450581e-09</td>\n",
              "    </tr>\n",
              "    <tr>\n",
              "      <th>36</th>\n",
              "      <td>OK</td>\n",
              "      <td>abs-diff</td>\n",
              "      <td>O019</td>\n",
              "      <td>(10, 10)</td>\n",
              "      <td>(10, 10)</td>\n",
              "      <td>(10, 10)</td>\n",
              "      <td>35</td>\n",
              "      <td>0</td>\n",
              "      <td>9.313226e-10</td>\n",
              "      <td>9.313226e-10</td>\n",
              "    </tr>\n",
              "    <tr>\n",
              "      <th>37</th>\n",
              "      <td>ERROR-&gt;=inf</td>\n",
              "      <td>abs-diff</td>\n",
              "      <td>final_after_op_Add</td>\n",
              "      <td>(10, 10)</td>\n",
              "      <td>(10, 10)</td>\n",
              "      <td>(10, 10)</td>\n",
              "      <td>36</td>\n",
              "      <td>0</td>\n",
              "      <td>1.000000e+01</td>\n",
              "      <td>inf</td>\n",
              "    </tr>\n",
              "    <tr>\n",
              "      <th>38</th>\n",
              "      <td>ERROR-&gt;=inf</td>\n",
              "      <td>abs-diff</td>\n",
              "      <td>Y</td>\n",
              "      <td>(10, 10)</td>\n",
              "      <td>(10, 10)</td>\n",
              "      <td>(10, 10)</td>\n",
              "      <td>37</td>\n",
              "      <td>0</td>\n",
              "      <td>1.000000e+01</td>\n",
              "      <td>inf</td>\n",
              "    </tr>\n",
              "  </tbody>\n",
              "</table>\n",
              "</div>"
            ],
            "text/plain": [
              "            cmp      metric                 name  shape[0]  shape[1]  \\\n",
              "0            OK  nb_results                  NaN       NaN       NaN   \n",
              "1            OK    abs-diff                    X   (10, 6)   (10, 6)   \n",
              "2            OK    abs-diff               Addcst      (1,)      (1,)   \n",
              "3            OK    abs-diff              Addcst1      (1,)      (1,)   \n",
              "4            OK    abs-diff                  O05      (2,)      (2,)   \n",
              "5            OK    abs-diff                  O04   (10, 6)   (10, 6)   \n",
              "6            OK    abs-diff                  O03   (10, 1)   (10, 1)   \n",
              "7            OK    abs-diff                  O06   (1, 10)   (1, 10)   \n",
              "8            OK    abs-diff                  O02  (10, 10)  (10, 10)   \n",
              "9            OK    abs-diff                  O01  (10, 10)  (10, 10)   \n",
              "10           OK    abs-diff                 O015      (2,)      (2,)   \n",
              "11           OK    abs-diff                 O014   (10, 6)   (10, 6)   \n",
              "12           OK    abs-diff                 O013    (1, 6)    (1, 6)   \n",
              "13           OK    abs-diff                 O012      (2,)      (2,)   \n",
              "14           OK    abs-diff                 O011    (1, 6)    (1, 6)   \n",
              "15           OK    abs-diff                 O010      (6,)      (6,)   \n",
              "16           OK    abs-diff                  O09   (10, 6)   (10, 6)   \n",
              "17           OK    abs-diff  scan0_3100996038896   (10, 6)   (10, 6)   \n",
              "18           OK    abs-diff  scan1_3100996038896  (10, 10)  (10, 10)   \n",
              "19           OK    abs-diff                 O018      (2,)      (2,)   \n",
              "20           OK    abs-diff                 O017   (10, 1)   (10, 1)   \n",
              "21           OK    abs-diff                 O016     (10,)     (10,)   \n",
              "22           OK    abs-diff                  O08  (10, 10)  (10, 10)   \n",
              "23           OK    abs-diff                  O07  (10, 10)  (10, 10)   \n",
              "24           OK    abs-diff                   O0  (10, 10)  (10, 10)   \n",
              "25           OK    abs-diff                 O022   (1, 10)   (1, 10)   \n",
              "26           OK    abs-diff                 O021  (10, 10)  (10, 10)   \n",
              "27           OK    abs-diff                 O020  (10, 10)  (10, 10)   \n",
              "28           OK    abs-diff                 O028      (2,)      (2,)   \n",
              "29           OK    abs-diff                 O027    (1, 6)    (1, 6)   \n",
              "30           OK    abs-diff                 O026      (6,)      (6,)   \n",
              "31           OK    abs-diff                 O025   (10, 6)   (10, 6)   \n",
              "32           OK    abs-diff  scan0_3100996786104   (10, 6)   (10, 6)   \n",
              "33      e<0.001    abs-diff  scan1_3100996786104  (10, 10)  (10, 10)   \n",
              "34     e<0.0001    abs-diff                 O024  (10, 10)  (10, 10)   \n",
              "35           OK    abs-diff                 O023  (10, 10)  (10, 10)   \n",
              "36           OK    abs-diff                 O019  (10, 10)  (10, 10)   \n",
              "37  ERROR->=inf    abs-diff   final_after_op_Add  (10, 10)  (10, 10)   \n",
              "38  ERROR->=inf    abs-diff                    Y  (10, 10)  (10, 10)   \n",
              "\n",
              "    shape[2]  step  v[0]          v[1]          v[2]  \n",
              "0        NaN    -1    38  3.800000e+01  3.800000e+01  \n",
              "1    (10, 6)     0     0  0.000000e+00  0.000000e+00  \n",
              "2       (1,)     1     0  0.000000e+00  0.000000e+00  \n",
              "3       (1,)     2     0  0.000000e+00  0.000000e+00  \n",
              "4       (2,)     3     0  0.000000e+00  0.000000e+00  \n",
              "5    (10, 6)     4     0  0.000000e+00  0.000000e+00  \n",
              "6    (10, 1)     5     0  0.000000e+00  0.000000e+00  \n",
              "7    (1, 10)     6     0  0.000000e+00  0.000000e+00  \n",
              "8   (10, 10)     7     0  0.000000e+00  0.000000e+00  \n",
              "9   (10, 10)     8     0  0.000000e+00  0.000000e+00  \n",
              "10      (2,)     9     0  0.000000e+00  0.000000e+00  \n",
              "11   (10, 6)    10     0  0.000000e+00  0.000000e+00  \n",
              "12    (1, 6)    11     0  0.000000e+00  0.000000e+00  \n",
              "13      (2,)    12     0  0.000000e+00  0.000000e+00  \n",
              "14    (1, 6)    13     0  0.000000e+00  0.000000e+00  \n",
              "15      (6,)    14     0  0.000000e+00  0.000000e+00  \n",
              "16   (10, 6)    15     0  0.000000e+00  0.000000e+00  \n",
              "17   (10, 6)    16     0  0.000000e+00  0.000000e+00  \n",
              "18  (10, 10)    17     0  4.768372e-07  4.768372e-07  \n",
              "19      (2,)    18     0  0.000000e+00  0.000000e+00  \n",
              "20   (10, 1)    19     0  0.000000e+00  0.000000e+00  \n",
              "21     (10,)    20     0  0.000000e+00  0.000000e+00  \n",
              "22  (10, 10)    21     0  2.384186e-07  2.384186e-07  \n",
              "23  (10, 10)    22     0  5.960464e-08  5.960464e-08  \n",
              "24  (10, 10)    23     0  7.450581e-09  7.450581e-09  \n",
              "25   (1, 10)    24     0  0.000000e+00  0.000000e+00  \n",
              "26  (10, 10)    25     0  0.000000e+00  0.000000e+00  \n",
              "27  (10, 10)    26     0  0.000000e+00  0.000000e+00  \n",
              "28      (2,)    27     0  0.000000e+00  0.000000e+00  \n",
              "29    (1, 6)    28     0  0.000000e+00  0.000000e+00  \n",
              "30      (6,)    29     0  0.000000e+00  0.000000e+00  \n",
              "31   (10, 6)    30     0  0.000000e+00  0.000000e+00  \n",
              "32   (10, 6)    31     0  0.000000e+00  0.000000e+00  \n",
              "33  (10, 10)    32     0  1.220703e-04  1.220703e-04  \n",
              "34  (10, 10)    33     0  6.103516e-05  6.103516e-05  \n",
              "35  (10, 10)    34     0  7.450581e-09  7.450581e-09  \n",
              "36  (10, 10)    35     0  9.313226e-10  9.313226e-10  \n",
              "37  (10, 10)    36     0  1.000000e+01           inf  \n",
              "38  (10, 10)    37     0  1.000000e+01           inf  "
            ]
          },
          "execution_count": 16,
          "metadata": {},
          "output_type": "execute_result"
        }
      ],
      "source": [
        "from mlprodict.onnxrt.side_by_side import side_by_side_by_values\n",
        "from pandas import DataFrame\n",
        "\n",
        "def run_sbs(r1, r2, r3, x):\n",
        "    sbs = side_by_side_by_values([r1, r2, r3], {'X': x.astype(numpy.float32)})\n",
        "    df = DataFrame(sbs)\n",
        "    dfd = df.drop(['value[0]', 'value[1]', 'value[2]'], axis=1).copy()\n",
        "    dfd.loc[dfd.cmp == 'ERROR->=inf', 'v[1]'] = 10\n",
        "    return dfd, sbs\n",
        "\n",
        "dfd, _ = run_sbs(pyrun, rtrun, rt_partial_run, Xtest)\n",
        "dfd"
      ]
    },
    {
      "cell_type": "code",
      "execution_count": 16,
      "metadata": {},
      "outputs": [
        {
          "data": {
            "image/png": "[encoded data removed]",
            "text/plain": [
              "<Figure size 1008x288 with 1 Axes>"
            ]
          },
          "metadata": {
            "needs_background": "light"
          },
          "output_type": "display_data"
        }
      ],
      "source": [
        "ax = dfd[['name', 'v[1]']].iloc[1:].set_index('name').plot(kind='bar', figsize=(14,4), logy=True)\n",
        "ax.set_title(\"absolute difference for each output between python and onnxruntime\");"
      ]
    },
    {
      "cell_type": "markdown",
      "metadata": {},
      "source": [
        "Let's try for other inputs."
      ]
    },
    {
      "cell_type": "code",
      "execution_count": 17,
      "metadata": {},
      "outputs": [
        {
          "name": "stderr",
          "output_type": "stream",
          "text": [
            "c:\\python372_x64\\lib\\site-packages\\matplotlib\\ticker.py:2241: UserWarning: Data has no positive values, and therefore cannot be log-scaled.\n",
            "  \"Data has no positive values, and therefore cannot be \"\n"
          ]
        },
        {
          "data": {
            "image/png": "[encoded data removed]",
            "text/plain": [
              "<Figure size 1008x288 with 8 Axes>"
            ]
          },
          "metadata": {
            "needs_background": "light"
          },
          "output_type": "display_data"
        }
      ],
      "source": [
        "import matplotlib.pyplot as plt\n",
        "values = [4, 6, 8, 12]\n",
        "fig, ax = plt.subplots(len(values), 2, figsize=(14, len(values) * 4))\n",
        "\n",
        "for i, d in enumerate(values):\n",
        "    for j, dim in enumerate([3, 8]):\n",
        "        mat = numpy.random.rand(d, dim)\n",
        "        dfd, _ = run_sbs(pyrun, rtrun, rt_partial_run, mat)\n",
        "        dfd[['name', 'v[1]']].iloc[1:].set_index('name').plot(\n",
        "            kind='bar', figsize=(14,4), logy=True, ax=ax[i, j])\n",
        "        ax[i, j].set_title(\"abs diff input shape {}\".format(mat.shape))\n",
        "        if i < len(values) - 1:\n",
        "            for xlabel_i in ax[i, j].get_xticklabels():\n",
        "                xlabel_i.set_visible(False)"
      ]
    },
    {
      "cell_type": "markdown",
      "metadata": {},
      "source": [
        "## Further analysis\n",
        "\n",
        "If there is one issue, we can create a simple graph to test. We consider ``Y = A + B`` where *A* and *B* have the following name in the *ONNX* graph:"
      ]
    },
    {
      "cell_type": "code",
      "execution_count": 18,
      "metadata": {},
      "outputs": [
        {
          "data": {
            "text/plain": [
              "['O0', 'O019']"
            ]
          },
          "execution_count": 19,
          "metadata": {},
          "output_type": "execute_result"
        }
      ],
      "source": [
        "node = pyrun.sequence_[-2].onnx_node\n",
        "final_inputs = list(node.input)\n",
        "final_inputs"
      ]
    },
    {
      "cell_type": "code",
      "execution_count": 19,
      "metadata": {
        "scrolled": false
      },
      "outputs": [
        {
          "data": {
            "text/plain": [
              "['O0', 'O019', 'Y']"
            ]
          },
          "execution_count": 20,
          "metadata": {},
          "output_type": "execute_result"
        }
      ],
      "source": [
        "_, sbs = run_sbs(pyrun, rtrun, rt_partial_run, Xtest)\n",
        "\n",
        "names = final_inputs + ['Y']\n",
        "values = {}\n",
        "for row in sbs:\n",
        "    if row.get('name', '#') not in names:\n",
        "        continue\n",
        "    name = row['name']\n",
        "    values[name] = [row[\"value[%d]\" % i] for i in range(3)]\n",
        "\n",
        "list(values.keys())"
      ]
    },
    {
      "cell_type": "markdown",
      "metadata": {},
      "source": [
        "Let's check."
      ]
    },
    {
      "cell_type": "code",
      "execution_count": 20,
      "metadata": {},
      "outputs": [
        {
          "name": "stdout",
          "output_type": "stream",
          "text": [
            "0 float32 0.0\n",
            "1 float32 inf\n",
            "2 float32 inf\n"
          ]
        }
      ],
      "source": [
        "for name in names:\n",
        "    if name not in values:\n",
        "        raise Exception(\"Unable to find '{}' in\\n{}\".format(\n",
        "            name, [_.get('name', \"?\") for _ in sbs]))\n",
        "\n",
        "a, b, c = names\n",
        "for i in [0, 1, 2]:\n",
        "    A = values[a][i]\n",
        "    B = values[b][i]\n",
        "    Y = values[c][i]\n",
        "    diff = Y - (A + B)\n",
        "    dabs = numpy.max(numpy.abs(diff))\n",
        "    print(i, diff.dtype, dabs)"
      ]
    },
    {
      "cell_type": "markdown",
      "metadata": {},
      "source": [
        "If the second runtime has issue, we can create a single node to check something."
      ]
    },
    {
      "cell_type": "code",
      "execution_count": 21,
      "metadata": {},
      "outputs": [],
      "source": [
        "from skl2onnx.algebra.onnx_ops import OnnxAdd\n",
        "onnx_add = OnnxAdd('X1', 'X2', output_names=['Y'])\n",
        "add_onnx = onnx_add.to_onnx({'X1': A, 'X2': B})"
      ]
    },
    {
      "cell_type": "code",
      "execution_count": 22,
      "metadata": {},
      "outputs": [],
      "source": [
        "pyrun_add = OnnxInference(add_onnx)\n",
        "rtrun_add = OnnxInference(add_onnx, runtime=\"onnxruntime1\")"
      ]
    },
    {
      "cell_type": "code",
      "execution_count": 23,
      "metadata": {},
      "outputs": [],
      "source": [
        "res1 = pyrun_add.run({'X1': A, 'X2': B})\n",
        "res2 = rtrun_add.run({'X1': A, 'X2': B})"
      ]
    },
    {
      "cell_type": "code",
      "execution_count": 24,
      "metadata": {},
      "outputs": [
        {
          "data": {
            "text/plain": [
              "0.0"
            ]
          },
          "execution_count": 25,
          "metadata": {},
          "output_type": "execute_result"
        }
      ],
      "source": [
        "measure_absolute_difference(res1['Y'], res2['Y'])"
      ]
    },
    {
      "cell_type": "markdown",
      "metadata": {},
      "source": [
        "No mistake here."
      ]
    },
    {
      "cell_type": "markdown",
      "metadata": {},
      "source": [
        "## onnxruntime"
      ]
    },
    {
      "cell_type": "code",
      "execution_count": 25,
      "metadata": {},
      "outputs": [
        {
          "data": {
            "text/plain": [
              "<onnxruntime.capi.session.InferenceSession at 0x2d20903f908>"
            ]
          },
          "execution_count": 26,
          "metadata": {},
          "output_type": "execute_result"
        }
      ],
      "source": [
        "from onnxruntime import InferenceSession, RunOptions, SessionOptions\n",
        "opt = SessionOptions()\n",
        "opt.enable_mem_pattern = True\n",
        "opt.enable_cpu_mem_arena = True\n",
        "sess = InferenceSession(model_onnx.SerializeToString(), opt)\n",
        "sess"
      ]
    },
    {
      "cell_type": "code",
      "execution_count": 26,
      "metadata": {},
      "outputs": [
        {
          "data": {
            "text/plain": [
              "0.09943283171656615"
            ]
          },
          "execution_count": 27,
          "metadata": {},
          "output_type": "execute_result"
        }
      ],
      "source": [
        "res = sess.run(None, {'X': Xtest.astype(numpy.float32)})[0]\n",
        "measure_absolute_difference(pyres['Y'], res)"
      ]
    },
    {
      "cell_type": "code",
      "execution_count": 27,
      "metadata": {},
      "outputs": [
        {
          "data": {
            "text/plain": [
              "inf"
            ]
          },
          "execution_count": 28,
          "metadata": {},
          "output_type": "execute_result"
        }
      ],
      "source": [
        "res = sess.run(None, {'X': Xtest.astype(numpy.float32)})[0]\n",
        "measure_absolute_difference(pyres['Y'], res)"
      ]
    },
    {
      "cell_type": "markdown",
      "metadata": {},
      "source": [
        "## Side by side for MLPRegressor"
      ]
    },
    {
      "cell_type": "code",
      "execution_count": 28,
      "metadata": {},
      "outputs": [
        {
          "data": {
            "text/plain": [
              "MLPRegressor(activation='relu', alpha=0.0001, batch_size='auto', beta_1=0.9,\n",
              "             beta_2=0.999, early_stopping=False, epsilon=1e-08,\n",
              "             hidden_layer_sizes=(100,), learning_rate='constant',\n",
              "             learning_rate_init=0.001, max_iter=200, momentum=0.9,\n",
              "             n_iter_no_change=10, nesterovs_momentum=True, power_t=0.5,\n",
              "             random_state=None, shuffle=True, solver='adam', tol=0.0001,\n",
              "             validation_fraction=0.1, verbose=False, warm_start=False)"
            ]
          },
          "execution_count": 29,
          "metadata": {},
          "output_type": "execute_result"
        }
      ],
      "source": [
        "from sklearn.datasets import load_iris\n",
        "from sklearn.model_selection import train_test_split\n",
        "from sklearn.neural_network import MLPRegressor\n",
        "iris = load_iris()\n",
        "X, y = iris.data, iris.target\n",
        "X_train, X_test, y_train, y_test = train_test_split(X, y)\n",
        "clr = MLPRegressor()\n",
        "clr.fit(X_train, y_train)"
      ]
    },
    {
      "cell_type": "code",
      "execution_count": 29,
      "metadata": {},
      "outputs": [
        {
          "name": "stderr",
          "output_type": "stream",
          "text": [
            "The maximum opset needed by this model is only 9.\n"
          ]
        }
      ],
      "source": [
        "from skl2onnx import to_onnx\n",
        "onx = to_onnx(clr, X_train.astype(numpy.float32))"
      ]
    },
    {
      "cell_type": "code",
      "execution_count": 30,
      "metadata": {},
      "outputs": [
        {
          "data": {
            "text/html": [
              "<div>\n",
              "<style scoped>\n",
              "    .dataframe tbody tr th:only-of-type {\n",
              "        vertical-align: middle;\n",
              "    }\n",
              "\n",
              "    .dataframe tbody tr th {\n",
              "        vertical-align: top;\n",
              "    }\n",
              "\n",
              "    .dataframe thead th {\n",
              "        text-align: right;\n",
              "    }\n",
              "</style>\n",
              "<table border=\"1\" class=\"dataframe\">\n",
              "  <thead>\n",
              "    <tr style=\"text-align: right;\">\n",
              "      <th></th>\n",
              "      <th>cmp</th>\n",
              "      <th>metric</th>\n",
              "      <th>name</th>\n",
              "      <th>shape[0]</th>\n",
              "      <th>shape[1]</th>\n",
              "      <th>shape[2]</th>\n",
              "      <th>step</th>\n",
              "      <th>v[0]</th>\n",
              "      <th>v[1]</th>\n",
              "      <th>v[2]</th>\n",
              "    </tr>\n",
              "  </thead>\n",
              "  <tbody>\n",
              "    <tr>\n",
              "      <th>0</th>\n",
              "      <td>OK</td>\n",
              "      <td>nb_results</td>\n",
              "      <td>NaN</td>\n",
              "      <td>NaN</td>\n",
              "      <td>NaN</td>\n",
              "      <td>NaN</td>\n",
              "      <td>-1</td>\n",
              "      <td>14</td>\n",
              "      <td>14.0</td>\n",
              "      <td>1.400000e+01</td>\n",
              "    </tr>\n",
              "    <tr>\n",
              "      <th>1</th>\n",
              "      <td>OK</td>\n",
              "      <td>abs-diff</td>\n",
              "      <td>X</td>\n",
              "      <td>(38, 4)</td>\n",
              "      <td>(38, 4)</td>\n",
              "      <td>(38, 4)</td>\n",
              "      <td>0</td>\n",
              "      <td>0</td>\n",
              "      <td>0.0</td>\n",
              "      <td>0.000000e+00</td>\n",
              "    </tr>\n",
              "    <tr>\n",
              "      <th>2</th>\n",
              "      <td>OK</td>\n",
              "      <td>abs-diff</td>\n",
              "      <td>coefficient</td>\n",
              "      <td>(4, 100)</td>\n",
              "      <td>(4, 100)</td>\n",
              "      <td>(4, 100)</td>\n",
              "      <td>1</td>\n",
              "      <td>0</td>\n",
              "      <td>0.0</td>\n",
              "      <td>0.000000e+00</td>\n",
              "    </tr>\n",
              "    <tr>\n",
              "      <th>3</th>\n",
              "      <td>OK</td>\n",
              "      <td>abs-diff</td>\n",
              "      <td>intercepts</td>\n",
              "      <td>(1, 100)</td>\n",
              "      <td>(1, 100)</td>\n",
              "      <td>(1, 100)</td>\n",
              "      <td>2</td>\n",
              "      <td>0</td>\n",
              "      <td>0.0</td>\n",
              "      <td>0.000000e+00</td>\n",
              "    </tr>\n",
              "    <tr>\n",
              "      <th>4</th>\n",
              "      <td>OK</td>\n",
              "      <td>abs-diff</td>\n",
              "      <td>coefficient1</td>\n",
              "      <td>(100, 1)</td>\n",
              "      <td>(100, 1)</td>\n",
              "      <td>(100, 1)</td>\n",
              "      <td>3</td>\n",
              "      <td>0</td>\n",
              "      <td>0.0</td>\n",
              "      <td>0.000000e+00</td>\n",
              "    </tr>\n",
              "    <tr>\n",
              "      <th>5</th>\n",
              "      <td>OK</td>\n",
              "      <td>abs-diff</td>\n",
              "      <td>intercepts1</td>\n",
              "      <td>(1, 1)</td>\n",
              "      <td>(1, 1)</td>\n",
              "      <td>(1, 1)</td>\n",
              "      <td>4</td>\n",
              "      <td>0</td>\n",
              "      <td>0.0</td>\n",
              "      <td>0.000000e+00</td>\n",
              "    </tr>\n",
              "    <tr>\n",
              "      <th>6</th>\n",
              "      <td>OK</td>\n",
              "      <td>abs-diff</td>\n",
              "      <td>shape_tensor</td>\n",
              "      <td>(2,)</td>\n",
              "      <td>(2,)</td>\n",
              "      <td>(2,)</td>\n",
              "      <td>5</td>\n",
              "      <td>0</td>\n",
              "      <td>0.0</td>\n",
              "      <td>0.000000e+00</td>\n",
              "    </tr>\n",
              "    <tr>\n",
              "      <th>7</th>\n",
              "      <td>OK</td>\n",
              "      <td>abs-diff</td>\n",
              "      <td>cast_input</td>\n",
              "      <td>(38, 4)</td>\n",
              "      <td>(38, 4)</td>\n",
              "      <td>(38, 4)</td>\n",
              "      <td>6</td>\n",
              "      <td>0</td>\n",
              "      <td>0.0</td>\n",
              "      <td>0.000000e+00</td>\n",
              "    </tr>\n",
              "    <tr>\n",
              "      <th>8</th>\n",
              "      <td>OK</td>\n",
              "      <td>abs-diff</td>\n",
              "      <td>mul_result</td>\n",
              "      <td>(38, 100)</td>\n",
              "      <td>(38, 100)</td>\n",
              "      <td>(38, 100)</td>\n",
              "      <td>7</td>\n",
              "      <td>0</td>\n",
              "      <td>0.0</td>\n",
              "      <td>2.384186e-07</td>\n",
              "    </tr>\n",
              "    <tr>\n",
              "      <th>9</th>\n",
              "      <td>OK</td>\n",
              "      <td>abs-diff</td>\n",
              "      <td>add_result</td>\n",
              "      <td>(38, 100)</td>\n",
              "      <td>(38, 100)</td>\n",
              "      <td>(38, 100)</td>\n",
              "      <td>8</td>\n",
              "      <td>0</td>\n",
              "      <td>0.0</td>\n",
              "      <td>4.768372e-07</td>\n",
              "    </tr>\n",
              "    <tr>\n",
              "      <th>10</th>\n",
              "      <td>OK</td>\n",
              "      <td>abs-diff</td>\n",
              "      <td>next_activations</td>\n",
              "      <td>(38, 100)</td>\n",
              "      <td>(38, 100)</td>\n",
              "      <td>(38, 100)</td>\n",
              "      <td>9</td>\n",
              "      <td>0</td>\n",
              "      <td>0.0</td>\n",
              "      <td>4.768372e-07</td>\n",
              "    </tr>\n",
              "    <tr>\n",
              "      <th>11</th>\n",
              "      <td>OK</td>\n",
              "      <td>abs-diff</td>\n",
              "      <td>mul_result1</td>\n",
              "      <td>(38, 1)</td>\n",
              "      <td>(38, 1)</td>\n",
              "      <td>(38, 1)</td>\n",
              "      <td>10</td>\n",
              "      <td>0</td>\n",
              "      <td>0.0</td>\n",
              "      <td>3.576279e-07</td>\n",
              "    </tr>\n",
              "    <tr>\n",
              "      <th>12</th>\n",
              "      <td>OK</td>\n",
              "      <td>abs-diff</td>\n",
              "      <td>add_result1</td>\n",
              "      <td>(38, 1)</td>\n",
              "      <td>(38, 1)</td>\n",
              "      <td>(38, 1)</td>\n",
              "      <td>11</td>\n",
              "      <td>0</td>\n",
              "      <td>0.0</td>\n",
              "      <td>3.576279e-07</td>\n",
              "    </tr>\n",
              "    <tr>\n",
              "      <th>13</th>\n",
              "      <td>OK</td>\n",
              "      <td>abs-diff</td>\n",
              "      <td>out_activations_result</td>\n",
              "      <td>(38, 1)</td>\n",
              "      <td>(38, 1)</td>\n",
              "      <td>(38, 1)</td>\n",
              "      <td>12</td>\n",
              "      <td>0</td>\n",
              "      <td>0.0</td>\n",
              "      <td>3.576279e-07</td>\n",
              "    </tr>\n",
              "    <tr>\n",
              "      <th>14</th>\n",
              "      <td>OK</td>\n",
              "      <td>abs-diff</td>\n",
              "      <td>variable</td>\n",
              "      <td>(38, 1)</td>\n",
              "      <td>(38, 1)</td>\n",
              "      <td>(38, 1)</td>\n",
              "      <td>13</td>\n",
              "      <td>0</td>\n",
              "      <td>0.0</td>\n",
              "      <td>3.576279e-07</td>\n",
              "    </tr>\n",
              "  </tbody>\n",
              "</table>\n",
              "</div>"
            ],
            "text/plain": [
              "   cmp      metric                    name   shape[0]   shape[1]   shape[2]  \\\n",
              "0   OK  nb_results                     NaN        NaN        NaN        NaN   \n",
              "1   OK    abs-diff                       X    (38, 4)    (38, 4)    (38, 4)   \n",
              "2   OK    abs-diff             coefficient   (4, 100)   (4, 100)   (4, 100)   \n",
              "3   OK    abs-diff              intercepts   (1, 100)   (1, 100)   (1, 100)   \n",
              "4   OK    abs-diff            coefficient1   (100, 1)   (100, 1)   (100, 1)   \n",
              "5   OK    abs-diff             intercepts1     (1, 1)     (1, 1)     (1, 1)   \n",
              "6   OK    abs-diff            shape_tensor       (2,)       (2,)       (2,)   \n",
              "7   OK    abs-diff              cast_input    (38, 4)    (38, 4)    (38, 4)   \n",
              "8   OK    abs-diff              mul_result  (38, 100)  (38, 100)  (38, 100)   \n",
              "9   OK    abs-diff              add_result  (38, 100)  (38, 100)  (38, 100)   \n",
              "10  OK    abs-diff        next_activations  (38, 100)  (38, 100)  (38, 100)   \n",
              "11  OK    abs-diff             mul_result1    (38, 1)    (38, 1)    (38, 1)   \n",
              "12  OK    abs-diff             add_result1    (38, 1)    (38, 1)    (38, 1)   \n",
              "13  OK    abs-diff  out_activations_result    (38, 1)    (38, 1)    (38, 1)   \n",
              "14  OK    abs-diff                variable    (38, 1)    (38, 1)    (38, 1)   \n",
              "\n",
              "    step  v[0]  v[1]          v[2]  \n",
              "0     -1    14  14.0  1.400000e+01  \n",
              "1      0     0   0.0  0.000000e+00  \n",
              "2      1     0   0.0  0.000000e+00  \n",
              "3      2     0   0.0  0.000000e+00  \n",
              "4      3     0   0.0  0.000000e+00  \n",
              "5      4     0   0.0  0.000000e+00  \n",
              "6      5     0   0.0  0.000000e+00  \n",
              "7      6     0   0.0  0.000000e+00  \n",
              "8      7     0   0.0  2.384186e-07  \n",
              "9      8     0   0.0  4.768372e-07  \n",
              "10     9     0   0.0  4.768372e-07  \n",
              "11    10     0   0.0  3.576279e-07  \n",
              "12    11     0   0.0  3.576279e-07  \n",
              "13    12     0   0.0  3.576279e-07  \n",
              "14    13     0   0.0  3.576279e-07  "
            ]
          },
          "execution_count": 31,
          "metadata": {},
          "output_type": "execute_result"
        }
      ],
      "source": [
        "pyrun = OnnxInference(onx, runtime=\"python\")\n",
        "rtrun = OnnxInference(onx, runtime=\"onnxruntime1\")\n",
        "rt_partial_run = OnnxInference(onx, runtime=\"onnxruntime2\")\n",
        "dfd, _ = run_sbs(rtrun, rt_partial_run, pyrun, X_test)\n",
        "dfd"
      ]
    },
    {
      "cell_type": "code",
      "execution_count": 31,
      "metadata": {},
      "outputs": [
        {
          "data": {
            "text/html": [
              "<div id=\"M102252d712b14c6ea28357c2e228091b-cont\"><div id=\"M102252d712b14c6ea28357c2e228091b\" style=\"width:100%;height:100%;\"></div></div>\n",
              "<script>\n",
              "\n",
              "require(['http://www.xavierdupre.fr/js/vizjs/viz.js'], function() { var svgGraph = Viz(\"digraph{\\n  ranksep=0.25;\\n  orientation=portrait;\\n  nodesep=0.05;\\n\\n  X [shape=box color=red label=\\\"X\\nfloat((1, 4))\\\" fontsize=10];\\n\\n  variable [shape=box color=green label=\\\"variable\\nfloat((1, 1))\\\" fontsize=10];\\n\\n  coefficient [shape=box label=\\\"coefficient\\nfloat32((4, 100))\\n[[-1.13292933e-01  2.40634456e...\\\" fontsize=10];\\n  intercepts [shape=box label=\\\"intercepts\\nfloat32((1, 100))\\n[[ 0.01656322  0.24568582  0.1...\\\" fontsize=10];\\n  coefficient1 [shape=box label=\\\"coefficient1\\nfloat32((100, 1))\\n[[ 6.08221963e-02]\\n [-1.656382...\\\" fontsize=10];\\n  intercepts1 [shape=box label=\\\"intercepts1\\nfloat32((1, 1))\\n[[0.00852954]]\\\" fontsize=10];\\n  shape_tensor [shape=box label=\\\"shape_tensor\\nint64((2,))\\n[-1  1]\\\" fontsize=10];\\n\\n  cast_input [shape=box label=\\\"cast_input\\\" fontsize=10];\\n  Cast [shape=box style=\\\"filled,rounded\\\" color=orange label=\\\"Cast\\n(Cast)\\nto=1\\\" fontsize=10];\\n  X -> Cast;\\n  Cast -> cast_input;\\n\\n  mul_result [shape=box label=\\\"mul_result\\\" fontsize=10];\\n  MatMul [shape=box style=\\\"filled,rounded\\\" color=orange label=\\\"MatMul\\n(MatMul)\\\" fontsize=10];\\n  cast_input -> MatMul;\\n  coefficient -> MatMul;\\n  MatMul -> mul_result;\\n\\n  add_result [shape=box label=\\\"add_result\\\" fontsize=10];\\n  Add [shape=box style=\\\"filled,rounded\\\" color=orange label=\\\"Add\\n(Add)\\\" fontsize=10];\\n  mul_result -> Add;\\n  intercepts -> Add;\\n  Add -> add_result;\\n\\n  next_activations [shape=box label=\\\"next_activations\\\" fontsize=10];\\n  Relu [shape=box style=\\\"filled,rounded\\\" color=orange label=\\\"Relu\\n(Relu)\\\" fontsize=10];\\n  add_result -> Relu;\\n  Relu -> next_activations;\\n\\n  mul_result1 [shape=box label=\\\"mul_result1\\\" fontsize=10];\\n  MatMul1 [shape=box style=\\\"filled,rounded\\\" color=orange label=\\\"MatMul\\n(MatMul1)\\\" fontsize=10];\\n  next_activations -> MatMul1;\\n  coefficient1 -> MatMul1;\\n  MatMul1 -> mul_result1;\\n\\n  add_result1 [shape=box label=\\\"add_result1\\\" fontsize=10];\\n  Add1 [shape=box style=\\\"filled,rounded\\\" color=orange label=\\\"Add\\n(Add1)\\\" fontsize=10];\\n  mul_result1 -> Add1;\\n  intercepts1 -> Add1;\\n  Add1 -> add_result1;\\n\\n  out_activations_result [shape=box label=\\\"out_activations_result\\\" fontsize=10];\\n  Relu1 [shape=box style=\\\"filled,rounded\\\" color=orange label=\\\"Identity\\n(Relu1)\\\" fontsize=10];\\n  add_result1 -> Relu1;\\n  Relu1 -> out_activations_result;\\n\\n  Reshape [shape=box style=\\\"filled,rounded\\\" color=orange label=\\\"Reshape\\n(Reshape)\\\" fontsize=10];\\n  out_activations_result -> Reshape;\\n  shape_tensor -> Reshape;\\n  Reshape -> variable;\\n}\");\n",
              "document.getElementById('M102252d712b14c6ea28357c2e228091b').innerHTML = svgGraph; });\n",
              "\n",
              "</script>"
            ],
            "text/plain": [
              "<jyquickhelper.jspy.render_nb_js_dot.RenderJsDot at 0x2d20b3a20b8>"
            ]
          },
          "execution_count": 32,
          "metadata": {},
          "output_type": "execute_result"
        }
      ],
      "source": [
        "%onnxview onx"
      ]
    },
    {
      "cell_type": "code",
      "execution_count": 32,
      "metadata": {},
      "outputs": [],
      "source": []
    }
  ],
  "metadata": {
    "kernelspec": {
      "display_name": "Python 3",
      "language": "python",
      "name": "python3"
    },
    "language_info": {
      "codemirror_mode": {
        "name": "ipython",
        "version": 3
      },
      "file_extension": ".py",
      "mimetype": "text/x-python",
      "name": "python",
      "nbconvert_exporter": "python",
      "pygments_lexer": "ipython3",
      "version": "3.7.2"
    }
  },
  "nbformat": 4,
  "nbformat_minor": 2
}