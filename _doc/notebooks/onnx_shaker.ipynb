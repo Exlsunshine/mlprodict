{
  "cells": [
    {
      "cell_type": "markdown",
      "metadata": {},
      "source": [
        "# Precision loss due to float32 conversion with ONNX\n",
        "\n",
        "The notebook studies the loss of precision while converting a non-continuous model into float32. It studies the conversion of [GradientBoostingClassifier](https://scikit-learn.org/stable/modules/generated/sklearn.ensemble.GradientBoostingClassifier.html)."
      ]
    },
    {
      "cell_type": "code",
      "execution_count": 1,
      "metadata": {},
      "outputs": [
        {
          "data": {
            "text/html": [
              "<div id=\"my_id_menu_nb\">run previous cell, wait for 2 seconds</div>\n",
              "<script>\n",
              "function repeat_indent_string(n){\n",
              "    var a = \"\" ;\n",
              "    for ( ; n > 0 ; --n)\n",
              "        a += \"    \";\n",
              "    return a;\n",
              "}\n",
              "// look up into all sections and builds an automated menu //\n",
              "var update_menu_string = function(begin, lfirst, llast, sformat, send, keep_item, begin_format, end_format) {\n",
              "    var anchors = document.getElementsByClassName(\"section\");\n",
              "    if (anchors.length == 0) {\n",
              "        anchors = document.getElementsByClassName(\"text_cell_render rendered_html\");\n",
              "    }\n",
              "    var i,t;\n",
              "    var text_menu = begin;\n",
              "    var text_memo = \"<pre>\\nlength:\" + anchors.length + \"\\n\";\n",
              "    var ind = \"\";\n",
              "    var memo_level = 1;\n",
              "    var href;\n",
              "    var tags = [];\n",
              "    var main_item = 0;\n",
              "    var format_open = 0;\n",
              "    for (i = 0; i <= llast; i++)\n",
              "        tags.push(\"h\" + i);\n",
              "\n",
              "    for (i = 0; i < anchors.length; i++) {\n",
              "        text_memo += \"**\" + anchors[i].id + \"--\\n\";\n",
              "\n",
              "        var child = null;\n",
              "        for(t = 0; t < tags.length; t++) {\n",
              "            var r = anchors[i].getElementsByTagName(tags[t]);\n",
              "            if (r.length > 0) {\n",
              "child = r[0];\n",
              "break;\n",
              "            }\n",
              "        }\n",
              "        if (child == null) {\n",
              "            text_memo += \"null\\n\";\n",
              "            continue;\n",
              "        }\n",
              "        if (anchors[i].hasAttribute(\"id\")) {\n",
              "            // when converted in RST\n",
              "            href = anchors[i].id;\n",
              "            text_memo += \"#1-\" + href;\n",
              "            // passer \u00e0 child suivant (le chercher)\n",
              "        }\n",
              "        else if (child.hasAttribute(\"id\")) {\n",
              "            // in a notebook\n",
              "            href = child.id;\n",
              "            text_memo += \"#2-\" + href;\n",
              "        }\n",
              "        else {\n",
              "            text_memo += \"#3-\" + \"*\" + \"\\n\";\n",
              "            continue;\n",
              "        }\n",
              "        var title = child.textContent;\n",
              "        var level = parseInt(child.tagName.substring(1,2));\n",
              "\n",
              "        text_memo += \"--\" + level + \"?\" + lfirst + \"--\" + title + \"\\n\";\n",
              "\n",
              "        if ((level < lfirst) || (level > llast)) {\n",
              "            continue ;\n",
              "        }\n",
              "        if (title.endsWith('\u00b6')) {\n",
              "            title = title.substring(0,title.length-1).replace(\"<\", \"&lt;\")\n",
              "         .replace(\">\", \"&gt;\").replace(\"&\", \"&amp;\");\n",
              "        }\n",
              "        if (title.length == 0) {\n",
              "            continue;\n",
              "        }\n",
              "\n",
              "        while (level < memo_level) {\n",
              "            text_menu += end_format + \"</ul>\\n\";\n",
              "            format_open -= 1;\n",
              "            memo_level -= 1;\n",
              "        }\n",
              "        if (level == lfirst) {\n",
              "            main_item += 1;\n",
              "        }\n",
              "        if (keep_item != -1 && main_item != keep_item + 1) {\n",
              "            // alert(main_item + \" - \" + level + \" - \" + keep_item);\n",
              "            continue;\n",
              "        }\n",
              "        while (level > memo_level) {\n",
              "            text_menu += \"<ul>\\n\";\n",
              "            memo_level += 1;\n",
              "        }\n",
              "        text_menu += repeat_indent_string(level-2);\n",
              "        text_menu += begin_format + sformat.replace(\"__HREF__\", href).replace(\"__TITLE__\", title);\n",
              "        format_open += 1;\n",
              "    }\n",
              "    while (1 < memo_level) {\n",
              "        text_menu += end_format + \"</ul>\\n\";\n",
              "        memo_level -= 1;\n",
              "        format_open -= 1;\n",
              "    }\n",
              "    text_menu += send;\n",
              "    //text_menu += \"\\n\" + text_memo;\n",
              "\n",
              "    while (format_open > 0) {\n",
              "        text_menu += end_format;\n",
              "        format_open -= 1;\n",
              "    }\n",
              "    return text_menu;\n",
              "};\n",
              "var update_menu = function() {\n",
              "    var sbegin = \"\";\n",
              "    var sformat = '<a href=\"#__HREF__\">__TITLE__</a>';\n",
              "    var send = \"\";\n",
              "    var begin_format = '<li>';\n",
              "    var end_format = '</li>';\n",
              "    var keep_item = -1;\n",
              "    var text_menu = update_menu_string(sbegin, 2, 4, sformat, send, keep_item,\n",
              "       begin_format, end_format);\n",
              "    var menu = document.getElementById(\"my_id_menu_nb\");\n",
              "    menu.innerHTML=text_menu;\n",
              "};\n",
              "window.setTimeout(update_menu,2000);\n",
              "            </script>"
            ],
            "text/plain": [
              "<IPython.core.display.HTML object>"
            ]
          },
          "execution_count": 2,
          "metadata": {},
          "output_type": "execute_result"
        }
      ],
      "source": [
        "from jyquickhelper import add_notebook_menu\n",
        "add_notebook_menu()"
      ]
    },
    {
      "cell_type": "code",
      "execution_count": 2,
      "metadata": {},
      "outputs": [],
      "source": [
        "%matplotlib inline"
      ]
    },
    {
      "cell_type": "markdown",
      "metadata": {},
      "source": [
        "## GradientBoostingClassifier\n",
        "\n",
        "We just train such a model on Iris dataset."
      ]
    },
    {
      "cell_type": "code",
      "execution_count": 3,
      "metadata": {},
      "outputs": [],
      "source": [
        "from sklearn.datasets import load_iris\n",
        "from sklearn.model_selection import train_test_split\n",
        "from sklearn.ensemble import GradientBoostingClassifier"
      ]
    },
    {
      "cell_type": "code",
      "execution_count": 4,
      "metadata": {},
      "outputs": [
        {
          "data": {
            "text/plain": [
              "GradientBoostingClassifier(criterion='friedman_mse', init=None,\n",
              "                           learning_rate=0.1, loss='deviance', max_depth=3,\n",
              "                           max_features=None, max_leaf_nodes=None,\n",
              "                           min_impurity_decrease=0.0, min_impurity_split=None,\n",
              "                           min_samples_leaf=1, min_samples_split=2,\n",
              "                           min_weight_fraction_leaf=0.0, n_estimators=20,\n",
              "                           n_iter_no_change=None, presort='auto',\n",
              "                           random_state=None, subsample=1.0, tol=0.0001,\n",
              "                           validation_fraction=0.1, verbose=0,\n",
              "                           warm_start=False)"
            ]
          },
          "execution_count": 5,
          "metadata": {},
          "output_type": "execute_result"
        }
      ],
      "source": [
        "iris = load_iris()\n",
        "X, y = iris.data, iris.target\n",
        "X_train, X_test, y_train, _ = train_test_split(\n",
        "    X, y, random_state=1, shuffle=True)\n",
        "clr = GradientBoostingClassifier(n_estimators=20)\n",
        "clr.fit(X_train, y_train)"
      ]
    },
    {
      "cell_type": "markdown",
      "metadata": {},
      "source": [
        "We are interested the probability of the last class."
      ]
    },
    {
      "cell_type": "code",
      "execution_count": 5,
      "metadata": {},
      "outputs": [
        {
          "data": {
            "text/plain": [
              "array([0.03050008, 0.03241972, 0.03241855, 0.03050008, 0.9430384 ,\n",
              "       0.027883  , 0.94645412, 0.03050008, 0.03050008, 0.9430384 ,\n",
              "       0.03241972, 0.03050008, 0.94645412, 0.03244527, 0.03241972,\n",
              "       0.03050008, 0.03241972, 0.03241972, 0.03050008, 0.03050008,\n",
              "       0.03241972, 0.03241972, 0.94651686, 0.03050008, 0.9351825 ,\n",
              "       0.03241972, 0.03050008, 0.03050008, 0.03241855, 0.94645412,\n",
              "       0.03241855, 0.94645412, 0.03241972, 0.94645412, 0.93969689,\n",
              "       0.03050008, 0.03241972, 0.03050008])"
            ]
          },
          "execution_count": 6,
          "metadata": {},
          "output_type": "execute_result"
        }
      ],
      "source": [
        "exp = clr.predict_proba(X_test)[:, 2]\n",
        "exp"
      ]
    },
    {
      "cell_type": "markdown",
      "metadata": {},
      "source": [
        "## Conversion to ONNX and comparison to original outputs"
      ]
    },
    {
      "cell_type": "code",
      "execution_count": 6,
      "metadata": {},
      "outputs": [],
      "source": [
        "import numpy\n",
        "from mlprodict.onnxrt import OnnxInference, to_onnx"
      ]
    },
    {
      "cell_type": "code",
      "execution_count": 7,
      "metadata": {},
      "outputs": [
        {
          "name": "stderr",
          "output_type": "stream",
          "text": [
            "The maximum opset needed by this model is only 9.\n",
            "The maximum opset needed by this model is only 1.\n"
          ]
        },
        {
          "data": {
            "text/plain": [
              "{'output_label': array([0, 1, 1, 0, 2, 1, 2, 0, 0, 2, 1, 0, 2, 1, 1, 0, 1, 1, 0, 0, 1, 1,\n",
              "        2, 0, 2, 1, 0, 0, 1, 2, 1, 2, 1, 2, 2, 0, 1, 0], dtype=int64),\n",
              " 'output_probability': [{0: 0.9440745, 1: 0.025425455, 2: 0.030500073},\n",
              "  {0: 0.028688721, 1: 0.93889153, 2: 0.032419723},\n",
              "  {0: 0.028723834, 1: 0.93885756, 2: 0.032418553},\n",
              "  {0: 0.9440745, 1: 0.025425455, 2: 0.030500073},\n",
              "  {0: 0.026433654, 1: 0.030527955, 2: 0.94303846},\n",
              "  {0: 0.028054776, 1: 0.9440622, 2: 0.027883},\n",
              "  {0: 0.026521996, 1: 0.027023876, 2: 0.9464541},\n",
              "  {0: 0.9440745, 1: 0.025425455, 2: 0.030500073},\n",
              "  {0: 0.9440745, 1: 0.025425455, 2: 0.030500073},\n",
              "  {0: 0.026433654, 1: 0.030527955, 2: 0.94303846},\n",
              "  {0: 0.028688721, 1: 0.93889153, 2: 0.032419723},\n",
              "  {0: 0.9440745, 1: 0.025425455, 2: 0.030500073},\n",
              "  {0: 0.026521996, 1: 0.027023876, 2: 0.9464541},\n",
              "  {0: 0.02792311, 1: 0.9396316, 2: 0.032445278},\n",
              "  {0: 0.028688721, 1: 0.93889153, 2: 0.032419723},\n",
              "  {0: 0.9440745, 1: 0.025425455, 2: 0.030500073},\n",
              "  {0: 0.028688721, 1: 0.93889153, 2: 0.032419723},\n",
              "  {0: 0.028688721, 1: 0.93889153, 2: 0.032419723},\n",
              "  {0: 0.9440745, 1: 0.025425455, 2: 0.030500073},\n",
              "  {0: 0.9440745, 1: 0.025425455, 2: 0.030500073},\n",
              "  {0: 0.028688721, 1: 0.93889153, 2: 0.032419723},\n",
              "  {0: 0.028688721, 1: 0.93889153, 2: 0.032419723},\n",
              "  {0: 0.037210234, 1: 0.04756344, 2: 0.9152264},\n",
              "  {0: 0.9440745, 1: 0.025425455, 2: 0.030500073},\n",
              "  {0: 0.029570486, 1: 0.035247017, 2: 0.9351826},\n",
              "  {0: 0.028688721, 1: 0.93889153, 2: 0.032419723},\n",
              "  {0: 0.9440745, 1: 0.025425455, 2: 0.030500073},\n",
              "  {0: 0.9440745, 1: 0.025425455, 2: 0.030500073},\n",
              "  {0: 0.028723834, 1: 0.93885756, 2: 0.032418553},\n",
              "  {0: 0.026521996, 1: 0.027023876, 2: 0.9464541},\n",
              "  {0: 0.028723834, 1: 0.93885756, 2: 0.032418553},\n",
              "  {0: 0.026521996, 1: 0.027023876, 2: 0.9464541},\n",
              "  {0: 0.028688721, 1: 0.93889153, 2: 0.032419723},\n",
              "  {0: 0.026521996, 1: 0.027023876, 2: 0.9464541},\n",
              "  {0: 0.027892565, 1: 0.032410543, 2: 0.93969685},\n",
              "  {0: 0.9440745, 1: 0.025425455, 2: 0.030500073},\n",
              "  {0: 0.028688721, 1: 0.93889153, 2: 0.032419723},\n",
              "  {0: 0.9440745, 1: 0.025425455, 2: 0.030500073}]}"
            ]
          },
          "execution_count": 8,
          "metadata": {},
          "output_type": "execute_result"
        }
      ],
      "source": [
        "model_def = to_onnx(clr, X_train.astype(numpy.float32))\n",
        "oinf = OnnxInference(model_def)\n",
        "inputs = {'X': X_test.astype(numpy.float32)}\n",
        "outputs = oinf.run(inputs)\n",
        "outputs"
      ]
    },
    {
      "cell_type": "markdown",
      "metadata": {},
      "source": [
        "Let's extract the probability of the last class."
      ]
    },
    {
      "cell_type": "code",
      "execution_count": 8,
      "metadata": {},
      "outputs": [
        {
          "data": {
            "text/plain": [
              "array([0.03050007, 0.03241972, 0.03241855, 0.03050007, 0.94303846,\n",
              "       0.027883  , 0.9464541 , 0.03050007, 0.03050007, 0.94303846,\n",
              "       0.03241972, 0.03050007, 0.9464541 , 0.03244528, 0.03241972,\n",
              "       0.03050007, 0.03241972, 0.03241972, 0.03050007, 0.03050007,\n",
              "       0.03241972, 0.03241972, 0.9152264 , 0.03050007, 0.9351826 ,\n",
              "       0.03241972, 0.03050007, 0.03050007, 0.03241855, 0.9464541 ,\n",
              "       0.03241855, 0.9464541 , 0.03241972, 0.9464541 , 0.93969685,\n",
              "       0.03050007, 0.03241972, 0.03050007], dtype=float32)"
            ]
          },
          "execution_count": 9,
          "metadata": {},
          "output_type": "execute_result"
        }
      ],
      "source": [
        "def output_fct(res):\n",
        "    val = res['output_probability'].values\n",
        "    return val[:, 2]\n",
        "\n",
        "output_fct(outputs)"
      ]
    },
    {
      "cell_type": "markdown",
      "metadata": {},
      "source": [
        "Let's compare both predictions."
      ]
    },
    {
      "cell_type": "code",
      "execution_count": 9,
      "metadata": {},
      "outputs": [
        {
          "data": {
            "text/plain": [
              "array([2.49467689e-09, 2.49467689e-09, 2.49467689e-09, 2.49467689e-09,\n",
              "       2.49467689e-09, 2.49467689e-09, 2.49467689e-09, 2.49467689e-09,\n",
              "       2.49467689e-09, 2.49467689e-09, 3.83691854e-09, 4.17597174e-09,\n",
              "       5.07239269e-09, 5.07239269e-09, 5.07239269e-09, 6.75709337e-09,\n",
              "       6.75709337e-09, 6.75709337e-09, 6.75709337e-09, 6.75709337e-09,\n",
              "       6.75709337e-09, 6.75709337e-09, 6.75709337e-09, 6.75709337e-09,\n",
              "       6.75709337e-09, 6.75709337e-09, 6.75709337e-09, 6.75709337e-09,\n",
              "       1.18936436e-08, 1.18936436e-08, 1.18936436e-08, 1.18936436e-08,\n",
              "       1.18936436e-08, 4.53099160e-08, 6.39595963e-08, 6.39595963e-08,\n",
              "       6.96991626e-08, 3.12904564e-02])"
            ]
          },
          "execution_count": 10,
          "metadata": {},
          "output_type": "execute_result"
        }
      ],
      "source": [
        "diff = numpy.sort(numpy.abs(output_fct(outputs) - exp))\n",
        "diff"
      ]
    },
    {
      "cell_type": "markdown",
      "metadata": {},
      "source": [
        "The highest difference is quite high but there is only one."
      ]
    },
    {
      "cell_type": "code",
      "execution_count": 10,
      "metadata": {},
      "outputs": [
        {
          "data": {
            "text/plain": [
              "0.03129045642680606"
            ]
          },
          "execution_count": 11,
          "metadata": {},
          "output_type": "execute_result"
        }
      ],
      "source": [
        "max(diff)"
      ]
    },
    {
      "cell_type": "markdown",
      "metadata": {},
      "source": [
        "## Why this difference?\n",
        "\n",
        "The function *astype_range* returns floats (single floats) around the true value of the orginal features in double floats. "
      ]
    },
    {
      "cell_type": "code",
      "execution_count": 11,
      "metadata": {},
      "outputs": [
        {
          "data": {
            "text/plain": [
              "(array([[5.7999997 , 3.9999995 , 1.1999999 , 0.19999999],\n",
              "        [5.0999994 , 2.4999998 , 2.9999998 , 1.0999999 ],\n",
              "        [6.5999994 , 2.9999998 , 4.3999996 , 1.3999999 ],\n",
              "        [5.3999996 , 3.8999996 , 1.2999998 , 0.39999998],\n",
              "        [7.899999  , 3.7999995 , 6.3999996 , 1.9999998 ]], dtype=float32),\n",
              " array([[5.8000007 , 4.0000005 , 1.2000002 , 0.20000002],\n",
              "        [5.1000004 , 2.5000002 , 3.0000002 , 1.1000001 ],\n",
              "        [6.6000004 , 3.0000002 , 4.4000006 , 1.4000001 ],\n",
              "        [5.4000006 , 3.9000006 , 1.3000001 , 0.40000004],\n",
              "        [7.900001  , 3.8000004 , 6.4000006 , 2.0000002 ]], dtype=float32))"
            ]
          },
          "execution_count": 12,
          "metadata": {},
          "output_type": "execute_result"
        }
      ],
      "source": [
        "from mlprodict.onnxrt.model_checker import astype_range\n",
        "astype_range(X_test[:5])"
      ]
    },
    {
      "cell_type": "markdown",
      "metadata": {},
      "source": [
        "If a decision tree uses a threshold which verifies ``float32(t) != t``, it cannot be converted into single float without discrepencies. The interval ``[float32(t - |t|*1e-7), float32(t + |t|*1e-7)]`` is close to all double values converted to the same *float32* but every feature *x* in this interval verifies ``float32(x) >= float32(t)``. It is not an issue for continuous machine learned models as all errors usually compensate. For non continuous models, there might some outliers. Next function considers all intervals of input features and randomly chooses one extremity for each of them."
      ]
    },
    {
      "cell_type": "code",
      "execution_count": 12,
      "metadata": {},
      "outputs": [],
      "source": [
        "from mlprodict.onnxrt.model_checker import onnx_shaker"
      ]
    },
    {
      "cell_type": "code",
      "execution_count": 13,
      "metadata": {},
      "outputs": [
        {
          "data": {
            "text/plain": [
              "(38, 100)"
            ]
          },
          "execution_count": 14,
          "metadata": {},
          "output_type": "execute_result"
        }
      ],
      "source": [
        "n = 100\n",
        "shaked = onnx_shaker(oinf, inputs, dtype=numpy.float32, n=n,\n",
        "                     output_fct=output_fct)\n",
        "shaked.shape"
      ]
    },
    {
      "cell_type": "markdown",
      "metadata": {},
      "source": [
        "The function draws out 100 input vectors randomly choosing one extremity for each feature. It then sort every row. First column is the lower bound, last column is the upper bound."
      ]
    },
    {
      "cell_type": "code",
      "execution_count": 14,
      "metadata": {},
      "outputs": [
        {
          "data": {
            "text/plain": [
              "array([0.        , 0.        , 0.        , 0.        , 0.        ,\n",
              "       0.        , 0.        , 0.        , 0.        , 0.        ,\n",
              "       0.        , 0.        , 0.        , 0.        , 0.        ,\n",
              "       0.        , 0.        , 0.        , 0.        , 0.        ,\n",
              "       0.        , 0.        , 0.03129047, 0.        , 0.        ,\n",
              "       0.        , 0.        , 0.        , 0.        , 0.        ,\n",
              "       0.        , 0.        , 0.        , 0.        , 0.        ,\n",
              "       0.        , 0.        , 0.        ], dtype=float32)"
            ]
          },
          "execution_count": 15,
          "metadata": {},
          "output_type": "execute_result"
        }
      ],
      "source": [
        "diff2 = shaked[:, n-1] - shaked[:, 0]\n",
        "diff2"
      ]
    },
    {
      "cell_type": "code",
      "execution_count": 15,
      "metadata": {},
      "outputs": [
        {
          "data": {
            "text/plain": [
              "0.03129047"
            ]
          },
          "execution_count": 16,
          "metadata": {},
          "output_type": "execute_result"
        }
      ],
      "source": [
        "max(diff2)"
      ]
    },
    {
      "cell_type": "markdown",
      "metadata": {},
      "source": [
        "We get the same value as before. At least one feature of one observation is really close to one threshold and changes the prediction."
      ]
    },
    {
      "cell_type": "markdown",
      "metadata": {},
      "source": [
        "## Bigger datasets"
      ]
    },
    {
      "cell_type": "code",
      "execution_count": 16,
      "metadata": {},
      "outputs": [
        {
          "data": {
            "text/plain": [
              "GradientBoostingClassifier(criterion='friedman_mse', init=None,\n",
              "                           learning_rate=0.1, loss='deviance', max_depth=3,\n",
              "                           max_features=None, max_leaf_nodes=None,\n",
              "                           min_impurity_decrease=0.0, min_impurity_split=None,\n",
              "                           min_samples_leaf=1, min_samples_split=2,\n",
              "                           min_weight_fraction_leaf=0.0, n_estimators=100,\n",
              "                           n_iter_no_change=None, presort='auto',\n",
              "                           random_state=None, subsample=1.0, tol=0.0001,\n",
              "                           validation_fraction=0.1, verbose=0,\n",
              "                           warm_start=False)"
            ]
          },
          "execution_count": 17,
          "metadata": {},
          "output_type": "execute_result"
        }
      ],
      "source": [
        "from sklearn.datasets import load_breast_cancer\n",
        "\n",
        "data = load_breast_cancer()\n",
        "X, y = data.data, data.target\n",
        "X_train, X_test, y_train, _ = train_test_split(\n",
        "    X, y, random_state=1, shuffle=True)\n",
        "clr = GradientBoostingClassifier()\n",
        "clr.fit(X_train, y_train)"
      ]
    },
    {
      "cell_type": "code",
      "execution_count": 17,
      "metadata": {},
      "outputs": [
        {
          "name": "stderr",
          "output_type": "stream",
          "text": [
            "The maximum opset needed by this model is only 9.\n",
            "The maximum opset needed by this model is only 1.\n"
          ]
        }
      ],
      "source": [
        "model_def = to_onnx(clr, X_train.astype(numpy.float32))\n",
        "oinf = OnnxInference(model_def)\n",
        "inputs = {'X': X_test.astype(numpy.float32)}"
      ]
    },
    {
      "cell_type": "code",
      "execution_count": 18,
      "metadata": {},
      "outputs": [
        {
          "data": {
            "text/plain": [
              "(143, 1000)"
            ]
          },
          "execution_count": 19,
          "metadata": {},
          "output_type": "execute_result"
        }
      ],
      "source": [
        "def output_fct1(res):\n",
        "    val = res['output_probability'].values\n",
        "    return val[:, 1]\n",
        "\n",
        "n = 1000\n",
        "shaked = onnx_shaker(oinf, inputs, dtype=numpy.float32, n=n,\n",
        "                     output_fct=output_fct1, force=1)\n",
        "shaked.shape"
      ]
    },
    {
      "cell_type": "code",
      "execution_count": 19,
      "metadata": {},
      "outputs": [
        {
          "data": {
            "image/png": "[encoded data removed]",
            "text/plain": [
              "<Figure size 432x288 with 1 Axes>"
            ]
          },
          "metadata": {
            "needs_background": "light"
          },
          "output_type": "display_data"
        }
      ],
      "source": [
        "import matplotlib.pyplot as plt\n",
        "plt.plot(shaked[:, n-1] - shaked[:, 0])\n",
        "plt.title(\"Observed differences on a dataset\\nwhen exploring rounding to float32\");"
      ]
    },
    {
      "cell_type": "code",
      "execution_count": 20,
      "metadata": {},
      "outputs": [],
      "source": []
    }
  ],
  "metadata": {
    "kernelspec": {
      "display_name": "Python 3",
      "language": "python",
      "name": "python3"
    },
    "language_info": {
      "codemirror_mode": {
        "name": "ipython",
        "version": 3
      },
      "file_extension": ".py",
      "mimetype": "text/x-python",
      "name": "python",
      "nbconvert_exporter": "python",
      "pygments_lexer": "ipython3",
      "version": "3.7.2"
    }
  },
  "nbformat": 4,
  "nbformat_minor": 2
}